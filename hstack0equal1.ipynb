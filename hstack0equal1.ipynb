{
 "cells": [
  {
   "cell_type": "code",
   "execution_count": 2,
   "metadata": {},
   "outputs": [],
   "source": [
    "# -- imports\n",
    "%matplotlib inline\n",
    "import numpy as np\n",
    "import os\n",
    "import pandas as pd\n",
    "from config import *\n",
    "import glob\n",
    "from astropy.io import fits\n",
    "import matplotlib.pyplot as plt\n",
    "import tensorflow as tf\n",
    "from tensorflow import keras\n",
    "import seaborn as sns"
   ]
  },
  {
   "cell_type": "code",
   "execution_count": 3,
   "metadata": {},
   "outputs": [
    {
     "data": {
      "text/html": [
       "<div>\n",
       "<style scoped>\n",
       "    .dataframe tbody tr th:only-of-type {\n",
       "        vertical-align: middle;\n",
       "    }\n",
       "\n",
       "    .dataframe tbody tr th {\n",
       "        vertical-align: top;\n",
       "    }\n",
       "\n",
       "    .dataframe thead th {\n",
       "        text-align: right;\n",
       "    }\n",
       "</style>\n",
       "<table border=\"1\" class=\"dataframe\">\n",
       "  <thead>\n",
       "    <tr style=\"text-align: right;\">\n",
       "      <th></th>\n",
       "      <th>ID</th>\n",
       "      <th>OBJECT_TYPE</th>\n",
       "      <th>AMP</th>\n",
       "      <th>A_IMAGE</th>\n",
       "      <th>A_REF</th>\n",
       "      <th>BAND</th>\n",
       "      <th>B_IMAGE</th>\n",
       "      <th>B_REF</th>\n",
       "      <th>CCDID</th>\n",
       "      <th>COLMEDS</th>\n",
       "      <th>...</th>\n",
       "      <th>N3SIG3</th>\n",
       "      <th>N3SIG3SHIFT</th>\n",
       "      <th>N3SIG5</th>\n",
       "      <th>N3SIG5SHIFT</th>\n",
       "      <th>NN_DIST_RENORM</th>\n",
       "      <th>NUMNEGRN</th>\n",
       "      <th>SCALE</th>\n",
       "      <th>SNR</th>\n",
       "      <th>SPREADERR_MODEL</th>\n",
       "      <th>SPREAD_MODEL</th>\n",
       "    </tr>\n",
       "  </thead>\n",
       "  <tbody>\n",
       "    <tr>\n",
       "      <th>0</th>\n",
       "      <td>75605</td>\n",
       "      <td>1</td>\n",
       "      <td>0.917655</td>\n",
       "      <td>1.242</td>\n",
       "      <td>3.060010</td>\n",
       "      <td>g</td>\n",
       "      <td>0.944</td>\n",
       "      <td>2.439935</td>\n",
       "      <td>21</td>\n",
       "      <td>0.120526</td>\n",
       "      <td>...</td>\n",
       "      <td>0</td>\n",
       "      <td>-9</td>\n",
       "      <td>0</td>\n",
       "      <td>-9</td>\n",
       "      <td>0.235493</td>\n",
       "      <td>24</td>\n",
       "      <td>1.381313</td>\n",
       "      <td>6.526832</td>\n",
       "      <td>0.005189</td>\n",
       "      <td>-0.009116</td>\n",
       "    </tr>\n",
       "    <tr>\n",
       "      <th>1</th>\n",
       "      <td>75898</td>\n",
       "      <td>1</td>\n",
       "      <td>0.179013</td>\n",
       "      <td>0.935</td>\n",
       "      <td>2.576239</td>\n",
       "      <td>g</td>\n",
       "      <td>0.922</td>\n",
       "      <td>1.820171</td>\n",
       "      <td>18</td>\n",
       "      <td>0.032853</td>\n",
       "      <td>...</td>\n",
       "      <td>0</td>\n",
       "      <td>-12</td>\n",
       "      <td>0</td>\n",
       "      <td>-14</td>\n",
       "      <td>0.257563</td>\n",
       "      <td>23</td>\n",
       "      <td>1.692956</td>\n",
       "      <td>5.573217</td>\n",
       "      <td>0.006101</td>\n",
       "      <td>-0.004171</td>\n",
       "    </tr>\n",
       "    <tr>\n",
       "      <th>2</th>\n",
       "      <td>76051</td>\n",
       "      <td>1</td>\n",
       "      <td>0.013268</td>\n",
       "      <td>1.528</td>\n",
       "      <td>3.647787</td>\n",
       "      <td>g</td>\n",
       "      <td>1.233</td>\n",
       "      <td>3.159317</td>\n",
       "      <td>57</td>\n",
       "      <td>0.267664</td>\n",
       "      <td>...</td>\n",
       "      <td>0</td>\n",
       "      <td>-10</td>\n",
       "      <td>0</td>\n",
       "      <td>-20</td>\n",
       "      <td>0.941432</td>\n",
       "      <td>5</td>\n",
       "      <td>0.260088</td>\n",
       "      <td>13.978503</td>\n",
       "      <td>0.002139</td>\n",
       "      <td>-0.003000</td>\n",
       "    </tr>\n",
       "    <tr>\n",
       "      <th>3</th>\n",
       "      <td>76229</td>\n",
       "      <td>1</td>\n",
       "      <td>0.569777</td>\n",
       "      <td>0.834</td>\n",
       "      <td>5.210605</td>\n",
       "      <td>g</td>\n",
       "      <td>0.685</td>\n",
       "      <td>5.056543</td>\n",
       "      <td>5</td>\n",
       "      <td>0.072407</td>\n",
       "      <td>...</td>\n",
       "      <td>0</td>\n",
       "      <td>-22</td>\n",
       "      <td>0</td>\n",
       "      <td>-46</td>\n",
       "      <td>0.219160</td>\n",
       "      <td>14</td>\n",
       "      <td>1.852880</td>\n",
       "      <td>5.592828</td>\n",
       "      <td>0.006952</td>\n",
       "      <td>-0.000032</td>\n",
       "    </tr>\n",
       "    <tr>\n",
       "      <th>4</th>\n",
       "      <td>76392</td>\n",
       "      <td>1</td>\n",
       "      <td>0.524820</td>\n",
       "      <td>1.094</td>\n",
       "      <td>1.924387</td>\n",
       "      <td>g</td>\n",
       "      <td>0.525</td>\n",
       "      <td>1.850099</td>\n",
       "      <td>45</td>\n",
       "      <td>0.085889</td>\n",
       "      <td>...</td>\n",
       "      <td>0</td>\n",
       "      <td>-14</td>\n",
       "      <td>0</td>\n",
       "      <td>-16</td>\n",
       "      <td>0.333854</td>\n",
       "      <td>25</td>\n",
       "      <td>1.650108</td>\n",
       "      <td>4.965725</td>\n",
       "      <td>0.007083</td>\n",
       "      <td>-0.010008</td>\n",
       "    </tr>\n",
       "    <tr>\n",
       "      <th>...</th>\n",
       "      <td>...</td>\n",
       "      <td>...</td>\n",
       "      <td>...</td>\n",
       "      <td>...</td>\n",
       "      <td>...</td>\n",
       "      <td>...</td>\n",
       "      <td>...</td>\n",
       "      <td>...</td>\n",
       "      <td>...</td>\n",
       "      <td>...</td>\n",
       "      <td>...</td>\n",
       "      <td>...</td>\n",
       "      <td>...</td>\n",
       "      <td>...</td>\n",
       "      <td>...</td>\n",
       "      <td>...</td>\n",
       "      <td>...</td>\n",
       "      <td>...</td>\n",
       "      <td>...</td>\n",
       "      <td>...</td>\n",
       "      <td>...</td>\n",
       "    </tr>\n",
       "    <tr>\n",
       "      <th>898958</th>\n",
       "      <td>11874751</td>\n",
       "      <td>0</td>\n",
       "      <td>0.975729</td>\n",
       "      <td>1.520</td>\n",
       "      <td>1.802727</td>\n",
       "      <td>z</td>\n",
       "      <td>1.252</td>\n",
       "      <td>1.150422</td>\n",
       "      <td>10</td>\n",
       "      <td>0.110625</td>\n",
       "      <td>...</td>\n",
       "      <td>0</td>\n",
       "      <td>6</td>\n",
       "      <td>0</td>\n",
       "      <td>6</td>\n",
       "      <td>0.275255</td>\n",
       "      <td>14</td>\n",
       "      <td>1.969859</td>\n",
       "      <td>9.565697</td>\n",
       "      <td>0.003626</td>\n",
       "      <td>0.010192</td>\n",
       "    </tr>\n",
       "    <tr>\n",
       "      <th>898959</th>\n",
       "      <td>11874758</td>\n",
       "      <td>0</td>\n",
       "      <td>0.776830</td>\n",
       "      <td>0.750</td>\n",
       "      <td>2.405035</td>\n",
       "      <td>z</td>\n",
       "      <td>0.676</td>\n",
       "      <td>1.279556</td>\n",
       "      <td>10</td>\n",
       "      <td>0.128664</td>\n",
       "      <td>...</td>\n",
       "      <td>0</td>\n",
       "      <td>1</td>\n",
       "      <td>0</td>\n",
       "      <td>1</td>\n",
       "      <td>1.101463</td>\n",
       "      <td>15</td>\n",
       "      <td>1.244608</td>\n",
       "      <td>5.641251</td>\n",
       "      <td>0.006096</td>\n",
       "      <td>-0.008210</td>\n",
       "    </tr>\n",
       "    <tr>\n",
       "      <th>898960</th>\n",
       "      <td>11874762</td>\n",
       "      <td>0</td>\n",
       "      <td>0.455947</td>\n",
       "      <td>0.802</td>\n",
       "      <td>5.320844</td>\n",
       "      <td>z</td>\n",
       "      <td>0.500</td>\n",
       "      <td>2.230924</td>\n",
       "      <td>10</td>\n",
       "      <td>0.095031</td>\n",
       "      <td>...</td>\n",
       "      <td>0</td>\n",
       "      <td>-10</td>\n",
       "      <td>0</td>\n",
       "      <td>-14</td>\n",
       "      <td>0.938816</td>\n",
       "      <td>24</td>\n",
       "      <td>1.674698</td>\n",
       "      <td>4.633825</td>\n",
       "      <td>0.007645</td>\n",
       "      <td>0.001634</td>\n",
       "    </tr>\n",
       "    <tr>\n",
       "      <th>898961</th>\n",
       "      <td>11874772</td>\n",
       "      <td>0</td>\n",
       "      <td>0.764371</td>\n",
       "      <td>1.494</td>\n",
       "      <td>2.043744</td>\n",
       "      <td>z</td>\n",
       "      <td>1.267</td>\n",
       "      <td>1.958380</td>\n",
       "      <td>10</td>\n",
       "      <td>0.075626</td>\n",
       "      <td>...</td>\n",
       "      <td>0</td>\n",
       "      <td>0</td>\n",
       "      <td>0</td>\n",
       "      <td>0</td>\n",
       "      <td>0.734137</td>\n",
       "      <td>22</td>\n",
       "      <td>1.793416</td>\n",
       "      <td>11.305648</td>\n",
       "      <td>0.003113</td>\n",
       "      <td>0.003695</td>\n",
       "    </tr>\n",
       "    <tr>\n",
       "      <th>898962</th>\n",
       "      <td>11874776</td>\n",
       "      <td>0</td>\n",
       "      <td>0.710976</td>\n",
       "      <td>1.151</td>\n",
       "      <td>2.125312</td>\n",
       "      <td>z</td>\n",
       "      <td>0.863</td>\n",
       "      <td>1.926336</td>\n",
       "      <td>10</td>\n",
       "      <td>0.115658</td>\n",
       "      <td>...</td>\n",
       "      <td>0</td>\n",
       "      <td>-7</td>\n",
       "      <td>0</td>\n",
       "      <td>-9</td>\n",
       "      <td>1.383618</td>\n",
       "      <td>19</td>\n",
       "      <td>1.790505</td>\n",
       "      <td>6.267945</td>\n",
       "      <td>0.005618</td>\n",
       "      <td>0.003125</td>\n",
       "    </tr>\n",
       "  </tbody>\n",
       "</table>\n",
       "<p>898963 rows × 40 columns</p>\n",
       "</div>"
      ],
      "text/plain": [
       "              ID  OBJECT_TYPE       AMP  A_IMAGE     A_REF BAND  B_IMAGE  \\\n",
       "0          75605            1  0.917655    1.242  3.060010    g    0.944   \n",
       "1          75898            1  0.179013    0.935  2.576239    g    0.922   \n",
       "2          76051            1  0.013268    1.528  3.647787    g    1.233   \n",
       "3          76229            1  0.569777    0.834  5.210605    g    0.685   \n",
       "4          76392            1  0.524820    1.094  1.924387    g    0.525   \n",
       "...          ...          ...       ...      ...       ...  ...      ...   \n",
       "898958  11874751            0  0.975729    1.520  1.802727    z    1.252   \n",
       "898959  11874758            0  0.776830    0.750  2.405035    z    0.676   \n",
       "898960  11874762            0  0.455947    0.802  5.320844    z    0.500   \n",
       "898961  11874772            0  0.764371    1.494  2.043744    z    1.267   \n",
       "898962  11874776            0  0.710976    1.151  2.125312    z    0.863   \n",
       "\n",
       "           B_REF  CCDID   COLMEDS  ...  N3SIG3  N3SIG3SHIFT  N3SIG5  \\\n",
       "0       2.439935     21  0.120526  ...       0           -9       0   \n",
       "1       1.820171     18  0.032853  ...       0          -12       0   \n",
       "2       3.159317     57  0.267664  ...       0          -10       0   \n",
       "3       5.056543      5  0.072407  ...       0          -22       0   \n",
       "4       1.850099     45  0.085889  ...       0          -14       0   \n",
       "...          ...    ...       ...  ...     ...          ...     ...   \n",
       "898958  1.150422     10  0.110625  ...       0            6       0   \n",
       "898959  1.279556     10  0.128664  ...       0            1       0   \n",
       "898960  2.230924     10  0.095031  ...       0          -10       0   \n",
       "898961  1.958380     10  0.075626  ...       0            0       0   \n",
       "898962  1.926336     10  0.115658  ...       0           -7       0   \n",
       "\n",
       "        N3SIG5SHIFT  NN_DIST_RENORM  NUMNEGRN     SCALE        SNR  \\\n",
       "0                -9        0.235493        24  1.381313   6.526832   \n",
       "1               -14        0.257563        23  1.692956   5.573217   \n",
       "2               -20        0.941432         5  0.260088  13.978503   \n",
       "3               -46        0.219160        14  1.852880   5.592828   \n",
       "4               -16        0.333854        25  1.650108   4.965725   \n",
       "...             ...             ...       ...       ...        ...   \n",
       "898958            6        0.275255        14  1.969859   9.565697   \n",
       "898959            1        1.101463        15  1.244608   5.641251   \n",
       "898960          -14        0.938816        24  1.674698   4.633825   \n",
       "898961            0        0.734137        22  1.793416  11.305648   \n",
       "898962           -9        1.383618        19  1.790505   6.267945   \n",
       "\n",
       "        SPREADERR_MODEL  SPREAD_MODEL  \n",
       "0              0.005189     -0.009116  \n",
       "1              0.006101     -0.004171  \n",
       "2              0.002139     -0.003000  \n",
       "3              0.006952     -0.000032  \n",
       "4              0.007083     -0.010008  \n",
       "...                 ...           ...  \n",
       "898958         0.003626      0.010192  \n",
       "898959         0.006096     -0.008210  \n",
       "898960         0.007645      0.001634  \n",
       "898961         0.003113      0.003695  \n",
       "898962         0.005618      0.003125  \n",
       "\n",
       "[898963 rows x 40 columns]"
      ]
     },
     "execution_count": 3,
     "metadata": {},
     "output_type": "execute_result"
    }
   ],
   "source": [
    "ffpath = os.path.join(configs[\"dpath\"], \"autoscan_features.3.feather\") #this .feather file contain only the ID and OBJECT_TYPE for the images that I have on my computer\n",
    "new_labels = pd.read_feather(ffpath)\n",
    "\n",
    "# dropping ALL duplicte values \n",
    "new_labels.drop_duplicates(inplace=True) \n",
    "new_labels = new_labels.sort_values(by=['ID'])\n",
    "new_labels = new_labels.reset_index(drop = True)\n",
    "  \n",
    "# displaying data \n",
    "new_labels"
   ]
  },
  {
   "cell_type": "code",
   "execution_count": 4,
   "metadata": {},
   "outputs": [],
   "source": [
    "#Create path for diff, srch, temp images\n",
    "pttype = '*'\n",
    "\n",
    "srch1 = os.path.join(configs[\"dpath\"],'Stamps1','20130829', '*',pttype + '*.fits') #general path of the images \n",
    "srch2 = os.path.join(configs[\"dpath\"],'Stamps1','20130831', '*',pttype + '*.fits')\n",
    "srch3 = os.path.join(configs[\"dpath\"],'Stamps1','20130901', '*',pttype + '*.fits')\n",
    "flist1  = np.array(sorted(glob.glob(srch1))) #recorre el path por *, recorre temp, srch y diff y el *.fits por el numero de la imagen\n",
    "flist2  = np.array(sorted(glob.glob(srch2)))\n",
    "flist3  = np.array(sorted(glob.glob(srch3)))\n",
    "flist = np.concatenate((flist1,flist2,flist3))\n"
   ]
  },
  {
   "cell_type": "code",
   "execution_count": 5,
   "metadata": {},
   "outputs": [
    {
     "data": {
      "text/plain": [
       "8061"
      ]
     },
     "execution_count": 5,
     "metadata": {},
     "output_type": "execute_result"
    }
   ],
   "source": [
    "len(flist)"
   ]
  },
  {
   "cell_type": "code",
   "execution_count": 6,
   "metadata": {},
   "outputs": [
    {
     "data": {
      "text/plain": [
       "[6962491,\n",
       " 6962491,\n",
       " 6962491,\n",
       " 6963820,\n",
       " 6963820,\n",
       " 6963820,\n",
       " 6969123,\n",
       " 6969133,\n",
       " 6969123]"
      ]
     },
     "execution_count": 6,
     "metadata": {},
     "output_type": "execute_result"
    }
   ],
   "source": [
    "#Extract the ID of the flist\n",
    "ID =[int(f.split('/')[-1][4:-5]) for f in flist]\n",
    "ID [:9]"
   ]
  },
  {
   "cell_type": "code",
   "execution_count": 7,
   "metadata": {},
   "outputs": [
    {
     "data": {
      "text/html": [
       "<div>\n",
       "<style scoped>\n",
       "    .dataframe tbody tr th:only-of-type {\n",
       "        vertical-align: middle;\n",
       "    }\n",
       "\n",
       "    .dataframe tbody tr th {\n",
       "        vertical-align: top;\n",
       "    }\n",
       "\n",
       "    .dataframe thead th {\n",
       "        text-align: right;\n",
       "    }\n",
       "</style>\n",
       "<table border=\"1\" class=\"dataframe\">\n",
       "  <thead>\n",
       "    <tr style=\"text-align: right;\">\n",
       "      <th></th>\n",
       "      <th>ID</th>\n",
       "      <th>OBJECT_TYPE</th>\n",
       "    </tr>\n",
       "  </thead>\n",
       "  <tbody>\n",
       "    <tr>\n",
       "      <th>0</th>\n",
       "      <td>6960252</td>\n",
       "      <td>1</td>\n",
       "    </tr>\n",
       "    <tr>\n",
       "      <th>1</th>\n",
       "      <td>6961062</td>\n",
       "      <td>1</td>\n",
       "    </tr>\n",
       "    <tr>\n",
       "      <th>2</th>\n",
       "      <td>6961064</td>\n",
       "      <td>1</td>\n",
       "    </tr>\n",
       "    <tr>\n",
       "      <th>3</th>\n",
       "      <td>6961300</td>\n",
       "      <td>1</td>\n",
       "    </tr>\n",
       "    <tr>\n",
       "      <th>4</th>\n",
       "      <td>6961308</td>\n",
       "      <td>0</td>\n",
       "    </tr>\n",
       "    <tr>\n",
       "      <th>...</th>\n",
       "      <td>...</td>\n",
       "      <td>...</td>\n",
       "    </tr>\n",
       "    <tr>\n",
       "      <th>2682</th>\n",
       "      <td>7778614</td>\n",
       "      <td>0</td>\n",
       "    </tr>\n",
       "    <tr>\n",
       "      <th>2683</th>\n",
       "      <td>7778883</td>\n",
       "      <td>1</td>\n",
       "    </tr>\n",
       "    <tr>\n",
       "      <th>2684</th>\n",
       "      <td>7779002</td>\n",
       "      <td>1</td>\n",
       "    </tr>\n",
       "    <tr>\n",
       "      <th>2685</th>\n",
       "      <td>7779022</td>\n",
       "      <td>1</td>\n",
       "    </tr>\n",
       "    <tr>\n",
       "      <th>2686</th>\n",
       "      <td>7779140</td>\n",
       "      <td>0</td>\n",
       "    </tr>\n",
       "  </tbody>\n",
       "</table>\n",
       "<p>2687 rows × 2 columns</p>\n",
       "</div>"
      ],
      "text/plain": [
       "           ID  OBJECT_TYPE\n",
       "0     6960252            1\n",
       "1     6961062            1\n",
       "2     6961064            1\n",
       "3     6961300            1\n",
       "4     6961308            0\n",
       "...       ...          ...\n",
       "2682  7778614            0\n",
       "2683  7778883            1\n",
       "2684  7779002            1\n",
       "2685  7779022            1\n",
       "2686  7779140            0\n",
       "\n",
       "[2687 rows x 2 columns]"
      ]
     },
     "execution_count": 7,
     "metadata": {},
     "output_type": "execute_result"
    }
   ],
   "source": [
    "#extract from .feather file the ID that are on flist\n",
    "current_labels = new_labels[new_labels[\"ID\"].isin(ID)]\n",
    "current_labels = current_labels[[\"ID\", \"OBJECT_TYPE\"]]\n",
    "current_labels = current_labels.sort_values(by= [\"ID\"]).reset_index(drop=True)\n",
    "current_labels"
   ]
  },
  {
   "cell_type": "code",
   "execution_count": 8,
   "metadata": {},
   "outputs": [
    {
     "name": "stdout",
     "output_type": "stream",
     "text": [
      "0 = 790 and 1 = 1897\n"
     ]
    }
   ],
   "source": [
    "#counts for 0 type and 1 type\n",
    "counts_type = np.unique(current_labels['OBJECT_TYPE'], return_counts=True)\n",
    "print(\"0 = {} and 1 = {}\".format(counts_type[1][0], counts_type[1][1]))"
   ]
  },
  {
   "cell_type": "code",
   "execution_count": 9,
   "metadata": {},
   "outputs": [
    {
     "name": "stdout",
     "output_type": "stream",
     "text": [
      "8061\n"
     ]
    }
   ],
   "source": [
    "imlist_dict = {}\n",
    "\n",
    "# stores the name of the images as a list for ID above\n",
    "#is a circle because i extract the ID for the flist, buttt\n",
    "imlist_dict['flist'] = [f for f in flist if int(f.split('/')[-1][4:-5]) in current_labels[\"ID\"].to_numpy()]\n",
    "print (len(imlist_dict['flist']))\n",
    "\n",
    "\n",
    "#N = imlist_dict[\"nimgs\"] = int(imlist_dict[\"fnumbers\"].shape[0]) \n",
    "imlist_dict[\"imshp\"] = fits.open((imlist_dict[\"flist\"][0]))[0].data.shape #shape row,col\n",
    "extension=\"fits\"\n",
    "imdtype = {\"fits\":float, \"gif\":np.uint8, }"
   ]
  },
  {
   "cell_type": "code",
   "execution_count": 10,
   "metadata": {},
   "outputs": [
    {
     "data": {
      "text/plain": [
       "['/Users/tatianaacerocuellar/Documents/Delaware/Data/Stamps1/20130829/470681007/diff6960252.fits',\n",
       " '/Users/tatianaacerocuellar/Documents/Delaware/Data/Stamps1/20130829/470681007/srch6960252.fits',\n",
       " '/Users/tatianaacerocuellar/Documents/Delaware/Data/Stamps1/20130829/470681007/temp6960252.fits',\n",
       " '/Users/tatianaacerocuellar/Documents/Delaware/Data/Stamps1/20130829/470681006/diff6961062.fits',\n",
       " '/Users/tatianaacerocuellar/Documents/Delaware/Data/Stamps1/20130829/470681006/srch6961062.fits',\n",
       " '/Users/tatianaacerocuellar/Documents/Delaware/Data/Stamps1/20130829/470681006/temp6961062.fits',\n",
       " '/Users/tatianaacerocuellar/Documents/Delaware/Data/Stamps1/20130829/470681006/diff6961064.fits',\n",
       " '/Users/tatianaacerocuellar/Documents/Delaware/Data/Stamps1/20130829/470681006/srch6961064.fits',\n",
       " '/Users/tatianaacerocuellar/Documents/Delaware/Data/Stamps1/20130829/470681006/temp6961064.fits']"
      ]
     },
     "execution_count": 10,
     "metadata": {},
     "output_type": "execute_result"
    }
   ],
   "source": [
    "#sort as: descending ID and diff, srch, temp\n",
    "imlist_dict[\"flist\"] = sorted(imlist_dict[\"flist\"], key=lambda s: s.split('/')[-1][:4])\n",
    "imlist_dict[\"flist\"]= sorted(imlist_dict[\"flist\"], key=lambda s: s.split('/')[-1][4:])\n",
    "imlist_dict[\"flist\"][:9]"
   ]
  },
  {
   "cell_type": "code",
   "execution_count": 11,
   "metadata": {},
   "outputs": [
    {
     "data": {
      "text/plain": [
       "['/Users/tatianaacerocuellar/Documents/Delaware/Data/Stamps1/20130901/472216022/diff7779002.fits',\n",
       " '/Users/tatianaacerocuellar/Documents/Delaware/Data/Stamps1/20130901/472216022/srch7779002.fits',\n",
       " '/Users/tatianaacerocuellar/Documents/Delaware/Data/Stamps1/20130901/472216022/temp7779002.fits',\n",
       " '/Users/tatianaacerocuellar/Documents/Delaware/Data/Stamps1/20130901/472216022/diff7779022.fits',\n",
       " '/Users/tatianaacerocuellar/Documents/Delaware/Data/Stamps1/20130901/472216022/srch7779022.fits',\n",
       " '/Users/tatianaacerocuellar/Documents/Delaware/Data/Stamps1/20130901/472216022/temp7779022.fits',\n",
       " '/Users/tatianaacerocuellar/Documents/Delaware/Data/Stamps1/20130901/472313664/diff7779140.fits',\n",
       " '/Users/tatianaacerocuellar/Documents/Delaware/Data/Stamps1/20130901/472313664/srch7779140.fits',\n",
       " '/Users/tatianaacerocuellar/Documents/Delaware/Data/Stamps1/20130901/472313664/temp7779140.fits']"
      ]
     },
     "execution_count": 11,
     "metadata": {},
     "output_type": "execute_result"
    }
   ],
   "source": [
    "imlist_dict[\"flist\"][-9:]"
   ]
  },
  {
   "cell_type": "code",
   "execution_count": 12,
   "metadata": {},
   "outputs": [],
   "source": [
    "#container for data train and data test\n",
    "data_full = np.zeros((len(imlist_dict[\"flist\"]),imlist_dict[\"imshp\"][0], imlist_dict[\"imshp\"][1]),imdtype[extension])\n",
    "\n",
    "#fill the container and open images\n",
    "for i in range(len(imlist_dict[\"flist\"])):\n",
    "    data_full[i] = fits.open(''.join(imlist_dict[\"flist\"][i]))[0].data\n"
   ]
  },
  {
   "cell_type": "code",
   "execution_count": 13,
   "metadata": {},
   "outputs": [
    {
     "data": {
      "text/plain": [
       "(8061, 51, 51)"
      ]
     },
     "execution_count": 13,
     "metadata": {},
     "output_type": "execute_result"
    }
   ],
   "source": [
    "data_full.shape"
   ]
  },
  {
   "cell_type": "code",
   "execution_count": 14,
   "metadata": {},
   "outputs": [],
   "source": [
    "#convert float for normalize\n",
    "data_norm = data_full.astype(float)"
   ]
  },
  {
   "cell_type": "code",
   "execution_count": 15,
   "metadata": {},
   "outputs": [],
   "source": [
    "# --normalize\n",
    "# mean and std for diff images\n",
    "# min and max for srch and temp\n",
    "\n",
    "data_norm[::3] = (data_norm[::3]- data_norm[::3].mean(axis=(1,2), keepdims=True))/data_norm[::3].std(axis=(1,2), keepdims=True) #diff\n",
    "    \n",
    "data_norm[1::3]= (data_norm[1::3]-data_norm[1::3].min(axis=(1,2), keepdims=True))/data_norm[1::3].max(axis=(1,2), keepdims=True) #srch\n",
    "data_norm[2::3]= (data_norm[2::3]-data_norm[2::3].min(axis=(1,2), keepdims=True))/data_norm[2::3].max(axis=(1,2), keepdims=True) #temp"
   ]
  },
  {
   "cell_type": "code",
   "execution_count": 16,
   "metadata": {},
   "outputs": [],
   "source": [
    "#concatenate diff srch temp for the same ID\n",
    "\n",
    "final_data = np.zeros((int(len(data_full)//3),imlist_dict[\"imshp\"][0], imlist_dict[\"imshp\"][1]*3))\n",
    "final_data = np.concatenate((data_norm[::3],data_norm[1::3],data_norm[2::3]), axis = 2)\n"
   ]
  },
  {
   "cell_type": "code",
   "execution_count": 17,
   "metadata": {},
   "outputs": [
    {
     "name": "stdout",
     "output_type": "stream",
     "text": [
      "Final lenght of data = (2687, 51, 153)\n"
     ]
    }
   ],
   "source": [
    "print('Final lenght of data = {}'.format(final_data.shape)) "
   ]
  },
  {
   "cell_type": "code",
   "execution_count": 18,
   "metadata": {
    "scrolled": true
   },
   "outputs": [],
   "source": [
    "#exxtract the objects  = 0\n",
    "df_ID_0 = current_labels[current_labels[\"OBJECT_TYPE\"]==0]\n",
    "#df_ID_0"
   ]
  },
  {
   "cell_type": "code",
   "execution_count": 19,
   "metadata": {
    "scrolled": true
   },
   "outputs": [],
   "source": [
    "#exxtract the objects  = 1\n",
    "df_ID_1 = current_labels[current_labels[\"OBJECT_TYPE\"]==1]\n",
    "#df_ID_1"
   ]
  },
  {
   "cell_type": "code",
   "execution_count": 20,
   "metadata": {},
   "outputs": [
    {
     "data": {
      "text/plain": [
       "790"
      ]
     },
     "execution_count": 20,
     "metadata": {},
     "output_type": "execute_result"
    }
   ],
   "source": [
    "#the len is the minimun of object 0, and object 1. To have equal data of both\n",
    "len_each_set = min(len(df_ID_0), len(df_ID_1))\n",
    "len_each_set"
   ]
  },
  {
   "cell_type": "code",
   "execution_count": 21,
   "metadata": {},
   "outputs": [
    {
     "data": {
      "text/plain": [
       "780"
      ]
     },
     "execution_count": 21,
     "metadata": {},
     "output_type": "execute_result"
    }
   ],
   "source": [
    "#extract random the number of data classify as 0\n",
    "index_data_ID0 = df_ID_0.sample(len_each_set-10, random_state = 2).sort_index()\n",
    "len(index_data_ID0)"
   ]
  },
  {
   "cell_type": "code",
   "execution_count": 22,
   "metadata": {},
   "outputs": [
    {
     "data": {
      "text/plain": [
       "800"
      ]
     },
     "execution_count": 22,
     "metadata": {},
     "output_type": "execute_result"
    }
   ],
   "source": [
    "#extract random the number of data classify as 1\n",
    "index_data_ID1 = df_ID_1.sample(len_each_set+10,random_state = 2).sort_index()\n",
    "len(index_data_ID1)"
   ]
  },
  {
   "cell_type": "code",
   "execution_count": 23,
   "metadata": {},
   "outputs": [
    {
     "data": {
      "text/plain": [
       "array([ 4,  7,  9, 13, 14, 15, 16, 17, 24])"
      ]
     },
     "execution_count": 23,
     "metadata": {},
     "output_type": "execute_result"
    }
   ],
   "source": [
    "#convert index to numpy to iterate\n",
    "index_ID0 = index_data_ID0.index.to_numpy()\n",
    "index_ID0[:9]"
   ]
  },
  {
   "cell_type": "code",
   "execution_count": 24,
   "metadata": {},
   "outputs": [
    {
     "data": {
      "text/plain": [
       "array([ 2,  3,  5, 10, 22, 23, 26, 28, 31])"
      ]
     },
     "execution_count": 24,
     "metadata": {},
     "output_type": "execute_result"
    }
   ],
   "source": [
    "#convert index to numpy to iterate\n",
    "index_ID1 = index_data_ID1.index.to_numpy()\n",
    "index_ID1[:9]"
   ]
  },
  {
   "cell_type": "code",
   "execution_count": 25,
   "metadata": {},
   "outputs": [
    {
     "data": {
      "text/plain": [
       "[2, 3, 4, 5, 7, 9, 10, 13, 14, 15]"
      ]
     },
     "execution_count": 25,
     "metadata": {},
     "output_type": "execute_result"
    }
   ],
   "source": [
    "#concatenate both index\n",
    "indexes = sorted(np.concatenate((index_ID0, index_ID1)))\n",
    "indexes[:10]"
   ]
  },
  {
   "cell_type": "code",
   "execution_count": 26,
   "metadata": {},
   "outputs": [
    {
     "name": "stdout",
     "output_type": "stream",
     "text": [
      "Len of data where len(ID_0) = len(ID_1) = 1580\n"
     ]
    }
   ],
   "source": [
    "#extract the data from the index given above, of the complete data, where 0 and 1 are not equal\n",
    "equal_type_data = len(indexes)\n",
    "print(\"Len of data where len(ID_0) = len(ID_1) = {}\".format(equal_type_data))"
   ]
  },
  {
   "cell_type": "code",
   "execution_count": 27,
   "metadata": {},
   "outputs": [
    {
     "name": "stdout",
     "output_type": "stream",
     "text": [
      "Final lenght of train = 1106, Final lenght of test = 474 \n"
     ]
    }
   ],
   "source": [
    "#70% is for training\n",
    "#30% testing\n",
    "train_len = int(equal_type_data*0.7)\n",
    "test_len = equal_type_data  - int(equal_type_data*0.7)\n",
    "print('Final lenght of train = {}, Final lenght of test = {} '.format(train_len, test_len))"
   ]
  },
  {
   "cell_type": "code",
   "execution_count": 28,
   "metadata": {},
   "outputs": [
    {
     "data": {
      "text/plain": [
       "[483, 621, 211, 1477, 811, 980, 317, 184, 136, 40]"
      ]
     },
     "execution_count": 28,
     "metadata": {},
     "output_type": "execute_result"
    }
   ],
   "source": [
    "import random\n",
    "random.seed(4)\n",
    "random_index = random.sample(range(0, equal_type_data), train_len)\n",
    "random_index[:10]"
   ]
  },
  {
   "cell_type": "code",
   "execution_count": 29,
   "metadata": {},
   "outputs": [
    {
     "data": {
      "text/plain": [
       "(1106, 474)"
      ]
     },
     "execution_count": 29,
     "metadata": {},
     "output_type": "execute_result"
    }
   ],
   "source": [
    "#70% is for training\n",
    "#30% testing\n",
    "train = np.array([final_data[i] for i in [indexes[i] for i in sorted(random_index)]])\n",
    "test = np.array([final_data[i] for i in indexes if i not in [indexes[i] for i in sorted(random_index)]])\n",
    "len(train),len(test)"
   ]
  },
  {
   "cell_type": "code",
   "execution_count": 30,
   "metadata": {},
   "outputs": [
    {
     "data": {
      "text/plain": [
       "[1, 1, 0, 1, 0, 0, 1, 0, 0, 0]"
      ]
     },
     "execution_count": 30,
     "metadata": {},
     "output_type": "execute_result"
    }
   ],
   "source": [
    "#extracting the label 0 or 1\n",
    "targets = [current_labels.iloc[i][\"OBJECT_TYPE\"] for i in indexes]\n",
    "targets[:10]"
   ]
  },
  {
   "cell_type": "code",
   "execution_count": 31,
   "metadata": {},
   "outputs": [
    {
     "data": {
      "text/plain": [
       "(1106, 474)"
      ]
     },
     "execution_count": 31,
     "metadata": {},
     "output_type": "execute_result"
    }
   ],
   "source": [
    "#split the targets\n",
    "train_targ = np.array([current_labels.iloc[i][\"OBJECT_TYPE\"] for i in [indexes[i] for i in sorted(random_index)]])\n",
    "test_targ = np.array([current_labels.iloc[i][\"OBJECT_TYPE\"] for i in indexes if i not in [indexes[i] for i in sorted(random_index)]])\n",
    "len(train_targ),len(test_targ)"
   ]
  },
  {
   "cell_type": "code",
   "execution_count": 32,
   "metadata": {},
   "outputs": [
    {
     "data": {
      "text/plain": [
       "(array([0, 1]), array([225, 249]))"
      ]
     },
     "execution_count": 32,
     "metadata": {},
     "output_type": "execute_result"
    }
   ],
   "source": [
    "(unique, counts) = np.unique(test_targ, return_counts=True)\n",
    "(unique, counts)"
   ]
  },
  {
   "cell_type": "code",
   "execution_count": 33,
   "metadata": {},
   "outputs": [
    {
     "data": {
      "text/plain": [
       "(array([0, 1]), array([555, 551]))"
      ]
     },
     "execution_count": 33,
     "metadata": {},
     "output_type": "execute_result"
    }
   ],
   "source": [
    "(unique, counts) = np.unique(train_targ, return_counts=True)\n",
    "(unique, counts)"
   ]
  },
  {
   "cell_type": "code",
   "execution_count": 34,
   "metadata": {},
   "outputs": [
    {
     "data": {
      "text/plain": [
       "array([6961308, 6961351, 6961845, 6961954, 6961958, 6962011, 6962027,\n",
       "       6962037, 6962376])"
      ]
     },
     "execution_count": 34,
     "metadata": {},
     "output_type": "execute_result"
    }
   ],
   "source": [
    "#extract the ID0\n",
    "ID0 = index_data_ID0[\"ID\"].to_numpy()\n",
    "ID0[:9]"
   ]
  },
  {
   "cell_type": "code",
   "execution_count": 35,
   "metadata": {},
   "outputs": [
    {
     "data": {
      "text/plain": [
       "array([6961064, 6961300, 6961332, 6961933, 6962158, 6962225, 6962414,\n",
       "       6962438, 6962536])"
      ]
     },
     "execution_count": 35,
     "metadata": {},
     "output_type": "execute_result"
    }
   ],
   "source": [
    "#extract the ID1\n",
    "ID1 = index_data_ID1[\"ID\"].to_numpy()\n",
    "ID1[:9]"
   ]
  },
  {
   "cell_type": "code",
   "execution_count": 36,
   "metadata": {},
   "outputs": [
    {
     "data": {
      "text/plain": [
       "[6961064,\n",
       " 6961300,\n",
       " 6961308,\n",
       " 6961332,\n",
       " 6961351,\n",
       " 6961845,\n",
       " 6961933,\n",
       " 6961954,\n",
       " 6961958,\n",
       " 6962011]"
      ]
     },
     "execution_count": 36,
     "metadata": {},
     "output_type": "execute_result"
    }
   ],
   "source": [
    "#concatenate the ID that are going to be used here\n",
    "IDs = sorted(np.concatenate((ID0, ID1)))\n",
    "IDs[:10]"
   ]
  },
  {
   "cell_type": "code",
   "execution_count": 37,
   "metadata": {},
   "outputs": [
    {
     "data": {
      "text/plain": [
       "'6962491'"
      ]
     },
     "execution_count": 37,
     "metadata": {},
     "output_type": "execute_result"
    }
   ],
   "source": [
    "flist[1].split('/')[-1][4:-5]"
   ]
  },
  {
   "cell_type": "code",
   "execution_count": 38,
   "metadata": {},
   "outputs": [
    {
     "data": {
      "image/png": "[encoded data removed]",
      "text/plain": [
       "<Figure size 720x720 with 1 Axes>"
      ]
     },
     "metadata": {
      "needs_background": "light"
     },
     "output_type": "display_data"
    }
   ],
   "source": [
    "plt.style.use(\"bmh\")\n",
    "\n",
    "plt.figure(figsize=(10, 10))\n",
    "#fig, ax = plt.subplots()\n",
    "plt.axis(\"off\")\n",
    "plt.imshow(train[0])\n",
    "plt.title(\"{} = {}\".format(IDs[8], train_targ[8]))\n",
    "plt.show()\n"
   ]
  },
  {
   "cell_type": "code",
   "execution_count": 39,
   "metadata": {
    "scrolled": true
   },
   "outputs": [
    {
     "name": "stdout",
     "output_type": "stream",
     "text": [
      "Train on 884 samples, validate on 222 samples\n",
      "Epoch 1/40\n",
      "884/884 [==============================] - 29s 32ms/sample - loss: 0.4057 - accuracy: 0.8631 - val_loss: 0.3361 - val_accuracy: 0.9324\n",
      "Epoch 2/40\n",
      "884/884 [==============================] - 24s 27ms/sample - loss: 0.2831 - accuracy: 0.9072 - val_loss: 0.2638 - val_accuracy: 0.9009\n",
      "Epoch 3/40\n",
      "884/884 [==============================] - 26s 29ms/sample - loss: 0.2342 - accuracy: 0.9118 - val_loss: 0.4988 - val_accuracy: 0.7477\n",
      "Epoch 4/40\n",
      "884/884 [==============================] - 27s 31ms/sample - loss: 0.2291 - accuracy: 0.9005 - val_loss: 0.1945 - val_accuracy: 0.9369\n",
      "Epoch 5/40\n",
      "884/884 [==============================] - 26s 30ms/sample - loss: 0.1815 - accuracy: 0.9321 - val_loss: 0.5134 - val_accuracy: 0.7387\n",
      "Epoch 6/40\n",
      "884/884 [==============================] - 26s 29ms/sample - loss: 0.1716 - accuracy: 0.9321 - val_loss: 0.1907 - val_accuracy: 0.9459\n",
      "Epoch 7/40\n",
      "884/884 [==============================] - 25s 28ms/sample - loss: 0.1621 - accuracy: 0.9412 - val_loss: 0.2176 - val_accuracy: 0.9279\n",
      "Epoch 8/40\n",
      "884/884 [==============================] - 24s 28ms/sample - loss: 0.1584 - accuracy: 0.9468 - val_loss: 0.1520 - val_accuracy: 0.9414\n",
      "Epoch 9/40\n",
      "884/884 [==============================] - 28s 32ms/sample - loss: 0.1419 - accuracy: 0.9502 - val_loss: 0.1927 - val_accuracy: 0.9369\n",
      "Epoch 10/40\n",
      "884/884 [==============================] - 28s 31ms/sample - loss: 0.1290 - accuracy: 0.9548 - val_loss: 0.1981 - val_accuracy: 0.9414\n",
      "Epoch 11/40\n",
      "884/884 [==============================] - 30s 33ms/sample - loss: 0.1337 - accuracy: 0.9536 - val_loss: 0.1481 - val_accuracy: 0.9459\n",
      "Epoch 12/40\n",
      "884/884 [==============================] - 31s 35ms/sample - loss: 0.1210 - accuracy: 0.9548 - val_loss: 0.2359 - val_accuracy: 0.9279\n",
      "Epoch 13/40\n",
      "884/884 [==============================] - 30s 34ms/sample - loss: 0.1259 - accuracy: 0.9581 - val_loss: 0.1477 - val_accuracy: 0.9459\n",
      "Epoch 14/40\n",
      "884/884 [==============================] - 27s 31ms/sample - loss: 0.1058 - accuracy: 0.9615 - val_loss: 0.1446 - val_accuracy: 0.9414\n",
      "Epoch 15/40\n",
      "884/884 [==============================] - 30s 34ms/sample - loss: 0.1045 - accuracy: 0.9604 - val_loss: 0.1887 - val_accuracy: 0.9324\n",
      "Epoch 16/40\n",
      "884/884 [==============================] - 28s 32ms/sample - loss: 0.0977 - accuracy: 0.9615 - val_loss: 0.1309 - val_accuracy: 0.9459\n",
      "Epoch 17/40\n",
      "884/884 [==============================] - 26s 30ms/sample - loss: 0.0931 - accuracy: 0.9649 - val_loss: 0.1405 - val_accuracy: 0.9414\n",
      "Epoch 18/40\n",
      "884/884 [==============================] - 23s 26ms/sample - loss: 0.0908 - accuracy: 0.9649 - val_loss: 0.3083 - val_accuracy: 0.8604\n",
      "Epoch 19/40\n",
      "884/884 [==============================] - 23s 26ms/sample - loss: 0.0843 - accuracy: 0.9706 - val_loss: 0.1368 - val_accuracy: 0.9459\n",
      "Epoch 20/40\n",
      "884/884 [==============================] - 23s 26ms/sample - loss: 0.0820 - accuracy: 0.9717 - val_loss: 0.1782 - val_accuracy: 0.9369\n",
      "Epoch 21/40\n",
      "884/884 [==============================] - 25s 29ms/sample - loss: 0.0757 - accuracy: 0.9729 - val_loss: 0.1287 - val_accuracy: 0.9459\n",
      "Epoch 22/40\n",
      "884/884 [==============================] - 24s 27ms/sample - loss: 0.0678 - accuracy: 0.9751 - val_loss: 0.1223 - val_accuracy: 0.9459\n",
      "Epoch 23/40\n",
      "884/884 [==============================] - 23s 26ms/sample - loss: 0.0592 - accuracy: 0.9774 - val_loss: 0.1323 - val_accuracy: 0.9414\n",
      "Epoch 24/40\n",
      "884/884 [==============================] - 23s 27ms/sample - loss: 0.0575 - accuracy: 0.9774 - val_loss: 0.1445 - val_accuracy: 0.9324\n",
      "Epoch 25/40\n",
      "884/884 [==============================] - 23s 26ms/sample - loss: 0.0594 - accuracy: 0.9796 - val_loss: 0.1219 - val_accuracy: 0.9505\n",
      "Epoch 26/40\n",
      "884/884 [==============================] - 24s 28ms/sample - loss: 0.0509 - accuracy: 0.9876 - val_loss: 0.1813 - val_accuracy: 0.9369\n",
      "Epoch 27/40\n",
      "884/884 [==============================] - 23s 26ms/sample - loss: 0.0528 - accuracy: 0.9819 - val_loss: 0.1325 - val_accuracy: 0.9459\n",
      "Epoch 28/40\n",
      "884/884 [==============================] - 22s 25ms/sample - loss: 0.0444 - accuracy: 0.9887 - val_loss: 0.1720 - val_accuracy: 0.9279\n",
      "Epoch 29/40\n",
      "884/884 [==============================] - 23s 26ms/sample - loss: 0.0440 - accuracy: 0.9876 - val_loss: 0.1116 - val_accuracy: 0.9640\n",
      "Epoch 30/40\n",
      "884/884 [==============================] - 23s 26ms/sample - loss: 0.0371 - accuracy: 0.9955 - val_loss: 0.1283 - val_accuracy: 0.9414\n",
      "Epoch 31/40\n",
      "884/884 [==============================] - 23s 26ms/sample - loss: 0.0350 - accuracy: 0.9910 - val_loss: 0.2174 - val_accuracy: 0.9054\n",
      "Epoch 32/40\n",
      "884/884 [==============================] - 23s 26ms/sample - loss: 0.0381 - accuracy: 0.9898 - val_loss: 0.1283 - val_accuracy: 0.9459\n",
      "Epoch 33/40\n",
      "884/884 [==============================] - 22s 25ms/sample - loss: 0.0281 - accuracy: 0.9943 - val_loss: 0.1054 - val_accuracy: 0.9550\n",
      "Epoch 34/40\n",
      "884/884 [==============================] - 23s 26ms/sample - loss: 0.0264 - accuracy: 0.9977 - val_loss: 0.1120 - val_accuracy: 0.9595\n",
      "Epoch 35/40\n",
      "884/884 [==============================] - 24s 28ms/sample - loss: 0.0233 - accuracy: 0.9989 - val_loss: 0.1186 - val_accuracy: 0.9550\n",
      "Epoch 36/40\n",
      "884/884 [==============================] - 23s 26ms/sample - loss: 0.0212 - accuracy: 0.9977 - val_loss: 0.1054 - val_accuracy: 0.9595\n",
      "Epoch 37/40\n",
      "884/884 [==============================] - 23s 26ms/sample - loss: 0.0188 - accuracy: 0.9966 - val_loss: 0.1145 - val_accuracy: 0.9550\n",
      "Epoch 38/40\n",
      "884/884 [==============================] - 23s 26ms/sample - loss: 0.0194 - accuracy: 0.9989 - val_loss: 0.1133 - val_accuracy: 0.9550\n",
      "Epoch 39/40\n",
      "884/884 [==============================] - 23s 26ms/sample - loss: 0.0174 - accuracy: 1.0000 - val_loss: 0.1166 - val_accuracy: 0.9505\n",
      "Epoch 40/40\n",
      "884/884 [==============================] - 24s 27ms/sample - loss: 0.0151 - accuracy: 1.0000 - val_loss: 0.1271 - val_accuracy: 0.9505\n",
      "1106/1 [============================================================================================================================================================================================================================================================================================================================================================================================================================================================================================================================================================================================================================================================================================================================================================================================================================================================================================================================================================================================================================================================================================================================================================================================================================================================================================================================================================================================================================================================================================================================================================================================================================================================================================================================================================================================================================================================================================================================================================================================================================================================================================================================================================================================================================================================================================================================================================================================================================================================================================================================================================================================================================================================================================================================================================================================================================================================================================================================================================================================================================================================================================================================================================================================================================================================================================================================================================================================================================================================================================================================================================================================================================================================================================================================================================================================================================================================================================================================================================================================================================================================================================================================================================================================================================================================================================================================================================================================================================================================================================================================================================================================================================================================================================================================================================================================================================================================================================================================================================================================================================================================================================================================================================================================================================================================================================================================================================================================================================================================================================================================================================================================================================================================================================================================================================================================================================================================================================================================================================================================================================================================================================================================================================================================================================================================================================================================================================================================================================================================================================================================================================================================================================================================================================================================================================================================================================================================================================================================================================================================================================================================================================================================================================================================================================================================================================================================================================================================================================================================================================================================================================================================================================================================================================================================================================================================================================================================================================================================================================================================================================================================================================================================================================================================================================================================================================================================================================================================================================================================================================================================================================================================================================================================================================================================================================================================================================================================================================================================================================================================================================================================================================================================================================================================================================================================================================================================================================================================================================================================================================================================================================================================================================================================================================================================================================================================================================================================================================================================================================================================================================================================================================================================================================================================================================================================================================================================================================================================================================================================================================================================================================================================================================================================================================================================================================================================================================================================================================================================================================================================================================================================================================================================================================================================================================================================================================================================================================================================================================================================================================================================================================================================================================================================================================================================================================================================================================================================================================================================================================================================================================================================================================================================================================================================================================================================================================================================================================================================================================================================================================================================================================================================================================================================================================================================================================================================================================================================================================================================================================================================================================================================================================================================================================================================================================================================================================================================================================================================================================================================================================================================================================================================================================================================================================================================================================================================================================================================================================================================================================================================================================================================================================================================================================================================================================================================================================================================================================================================================================================================================================================================================================================================================================================================================================================================================================================================================================================================================================================================================================================================================================================================================================================================================================================================================================================================================================================================================================================================================================================================================================================================================================================================================================================================================================================================================================================================================================================================================================================================================================================================================================================================================================================================================================================================================================================================================================================================================================================================================================================================================================================================================================================================================================================================================================================================================================================================================================================================================================================================================================================================================================================================================================================================================================================================================================================================================================================================================================================================================================================================================================================================================================================================================================================================================================================================================================================================================================================================================================================================================================================================================================================================================================================================================================================================================================================================================================================================================================================================================================================================================================================================================================================================================================================================================================================================================================================================================================================================================================================================================================================================================================================================================================================================================================================================================================================================================================================================================================================================================================================================================================================================================================================================================================================================================================================================================================================================================================================================================================================================================================================================================================================================================================================================================================================================================================================================================================================================================================================================================================================================================================================================================================================================================================================================================================================================================================================================================================================================================================================================================================================================================================================================================================================================================================================================================================================================================================================================================================================================================================================================================================================================================================================================================================================================================================================================================================================================================================================================================================================================================================================================================================================================================================================================================================================================================================================================================================================================================================================================================================================================================================================================================================================================================================================================================================================================================================================================================================================================================================================================================================================================================================================================================================================================================================================================================================================================================================================================================================================================================================================================================================================================================================================================================================================================================================================================================================================================================================================================================================================================================================================================================================================================================================================================================================================================================================================================================================================================================================================================================================================================================================================================================================================================================================================================================================================================================================================================================================================================================================================================================================================================================================================================================================================================================================================================================================================================================================================================================================================================================================================================================================================================================================================================================================================================================================================================================================================================================================================================================================================================================================================================================================================================================================================================================================================================================================================================================================================================================================================================================================================================================================================================================================================================================================================================================================================================================================================================================================================================================================================================================================================================================================================================================================================================================================================================================================================================================================================================================================================================================================================================================================================================================================================================================================================================================================================================================================================================================================================================================================================================================================================================================================================================================================================================================================================================================================================================================================================================================================================================================================================================================================================================================================================================================================================================================================================================================================================================================================================================================================================================================================================================================================================================================================================================================================================================================================================================================================================================================================================================================================================================================================================================================================================================================================================================================================================================================================================================================================================================================================================================================================================================================================================================================================================================================================================================================================================================================================================================================================================================================================================================================================================================================================================================================================================================================================================================================================================================================================================================================================================================================================================================================================================================================================================================================================================================================================================================================================================================================================================================================================================================================================================================================================================================================================================================================================================================================================================================================================================================================================================================================================================================================================================================================================================================================================================================================================================================================================================================================================================================================================================================================================================================================================================================================================================================================================================================================================================================================================================================================================================================================================================================================================================================================================================================================================================================================================================================================================================================================================================================================================================================================================================================================================================================================================================================================================================================================================================================================================================================================================================================================================================================================================================================================================================================================================================================================================================================================================================================================================================================================================================================================================================================================================] - 11s 10ms/sample - loss: 0.0326 - accuracy: 0.9892\n"
     ]
    },
    {
     "name": "stdout",
     "output_type": "stream",
     "text": [
      "\r",
      "474/1 [============================================================================================================================================================================================================================================================================================================================================================================================================================================================================================================================================================================================================================================================================================================================================================================================================================================================================================================================================================================================================================================================================================================================================================================================================================================================================================================================================================================================================================================================================================================================================================================================================================================================================================================================================================================================================================================================================================================================================================================================================================================================================================================================================================================================================================================================================================================================================================================================================================================================================================================================================================================================================================================================================================================================================================================================================================================================================================================================================================================================================================================================================================================================================================================================================================================================================================================================================================================================================================================================================================================================================================================================================================================================================================================================================================================================================================================================================================================================================================================================================================================================================================================================================================================================================================================================================================================================================================================================================================================================================================================================================================================================================================================================================================================================================================================================================================================================================================================================================================================================================================================================================================================================================================================================================================================================================================================================================================================================================================================================================================================================================================================================================================================================================================================================================================================================================================================================================================================================================================================================================================================================================================================================================================================================================================================================================================================================================================================================================================================================================================================================================================================================================================================================================================================================================================================================================================================================================================================================================================================================================================================================================================================================================================================================================================================================================================================================================================================================================================================================================================================================================================================================================================================================================================================================================================================================================================================================================================================================================================================================================================================================================================================================================================================================================================================================================================================================================================================================================================================================================================================================================================================================================================================================================================================================================================================================================================================================================================================================================================================================================================================================================================================================================================================================================================================================================================================================================================================================================================================================================================================================================================================================================================================================================================================================================================================================================================================================================================================================================================================================================================================================================================================================================================================================================================================================================================================================================================================================================================================================================================================================================================================================================================================================================================================================================================================================================================================================================================================================================================================================================================================================================================================================================================================================================================================================================================================================================================================================================================================================================================================================================================================================================================================================================================================================================================================================================================================================================================================================================================================================================================================================================================================================================================================================================================================================================================================================================================================================================================================================================================================================================================================================================================================================================================================================================================================================================================================================================================================================================================================================================================================================================================================================================================================================================================================================================================================================================================================================================================================================================================================================================================================================================================================================================================================================================================================================================================================================================================================================================================================================================================================================================================================================================================================================================================================================================================================================================================================================================================================================================================================================================================================================================================================================================================================================================================================================================] - 4s 9ms/sample - loss: 0.3581 - accuracy: 0.9726\n"
     ]
    },
    {
     "name": "stdout",
     "output_type": "stream",
     "text": [
      "Training accuracy : 0.9892\n",
      "Testing accuracy  : 0.9726\n",
      "Saved model to disk\n"
     ]
    }
   ],
   "source": [
    "np.random.seed(1)\n",
    "tf.random.set_seed(346)\n",
    "\n",
    "# -- define the network\n",
    "layer1 = keras.layers.Conv2D(16, kernel_size=(5, 5), padding=\"valid\", activation=\"relu\", input_shape=(51, 153, 1))\n",
    "layer2 = keras.layers.MaxPooling2D((2, 2), strides=2)\n",
    "layer3 = keras.layers.Conv2D(32, kernel_size=(5, 5), padding=\"valid\", activation=\"relu\", input_shape=(51, 153, 1))\n",
    "layer4 = keras.layers.MaxPooling2D((2, 2), strides=2)\n",
    "layer5 = keras.layers.Flatten()\n",
    "#layer6 = keras.layers.Dropout(0.4)\n",
    "layer7 = keras.layers.Dense(32, activation=\"relu\")\n",
    "layer8 = keras.layers.Dense(2, activation=\"softmax\")\n",
    "layers = [layer1, layer2, layer3, layer4, layer5, layer7,layer8]\n",
    "\n",
    "# -- instantiate the convolutional neural network\n",
    "model = keras.Sequential(layers)\n",
    "\n",
    "opt = keras.optimizers.SGD(learning_rate=0.01)\n",
    "model.compile(optimizer=opt, loss=\"sparse_categorical_crossentropy\", metrics=[\"accuracy\"])\n",
    "\n",
    "# -- feautres need to have an extra axis on the end (for mini-batching)\n",
    "feat_tr2 = train.reshape(len(train), 51, 153, 1)\n",
    "feat_te2 = test.reshape(len(test), 51, 153, 1)\n",
    "\n",
    "# -- fit the model\n",
    "history = model.fit(feat_tr2, train_targ, validation_split=0.20, epochs=40, batch_size=20)\n",
    "\n",
    "# -- print the accuracy\n",
    "loss_tr, acc_tr = model.evaluate(feat_tr2, train_targ)\n",
    "loss_te, acc_te = model.evaluate(feat_te2, test_targ)\n",
    "\n",
    "print(\"Training accuracy : {0:.4f}\".format(acc_tr))\n",
    "print(\"Testing accuracy  : {0:.4f}\".format(acc_te))\n",
    "\n",
    "model_json = model.to_json()\n",
    "with open(\"model.json\", \"w\") as json_file:\n",
    "    json_file.write(model_json)\n",
    "# serialize weights to HDF5\n",
    "model.save_weights(\"model.h5\")\n",
    "print(\"Saved model to disk\")\n",
    "\n",
    "\n"
   ]
  },
  {
   "cell_type": "code",
   "execution_count": 40,
   "metadata": {},
   "outputs": [
    {
     "data": {
      "text/plain": [
       "dict_keys(['loss', 'accuracy', 'val_loss', 'val_accuracy'])"
      ]
     },
     "execution_count": 40,
     "metadata": {},
     "output_type": "execute_result"
    }
   ],
   "source": [
    "#keys of the model\n",
    "history.history.keys()"
   ]
  },
  {
   "cell_type": "code",
   "execution_count": 41,
   "metadata": {},
   "outputs": [
    {
     "data": {
      "text/plain": [
       "0.11173088779429344"
      ]
     },
     "execution_count": 41,
     "metadata": {},
     "output_type": "execute_result"
    }
   ],
   "source": [
    "loss_te"
   ]
  },
  {
   "cell_type": "code",
   "execution_count": 42,
   "metadata": {},
   "outputs": [
    {
     "data": {
      "image/png": "[encoded data removed]",
      "text/plain": [
       "<Figure size 576x360 with 1 Axes>"
      ]
     },
     "metadata": {
      "needs_background": "light"
     },
     "output_type": "display_data"
    }
   ],
   "source": [
    "# -- plot the loss function\n",
    "fig, ax = plt.subplots(figsize=(8, 5))\n",
    "plt.plot(history.history[\"loss\"])\n",
    "plt.plot(history.history[\"val_loss\"])\n",
    "plt.legend([\"train\", \"test\"], loc=\"upper left\")\n",
    "ax.set_xlabel(\"epoch\", fontsize=15)\n",
    "ax.set_ylabel(\"loss\", fontsize=15)\n",
    "plt.savefig(\"loss.pdf\",bbox_inches=\"tight\")\n",
    "#fig.show()"
   ]
  },
  {
   "cell_type": "code",
   "execution_count": 43,
   "metadata": {},
   "outputs": [
    {
     "data": {
      "image/png": "[encoded data removed]",
      "text/plain": [
       "<Figure size 576x360 with 1 Axes>"
      ]
     },
     "metadata": {
      "needs_background": "light"
     },
     "output_type": "display_data"
    }
   ],
   "source": [
    "# -- plot the accuracy function\n",
    "fig, ax = plt.subplots(figsize=(8, 5))\n",
    "plt.plot(history.history[\"accuracy\"])\n",
    "plt.plot(history.history[\"val_accuracy\"])\n",
    "plt.legend([\"train\", \"test\"], loc=\"upper left\")\n",
    "ax.set_xlabel(\"epoch\", fontsize=15)\n",
    "ax.set_ylabel(\"acc\", fontsize=15)\n",
    "plt.savefig(\"acc.pdf\",bbox_inches=\"tight\")\n",
    "#fig.show()"
   ]
  },
  {
   "cell_type": "code",
   "execution_count": 44,
   "metadata": {},
   "outputs": [
    {
     "data": {
      "text/plain": [
       "array([[219,   6],\n",
       "       [  7, 242]], dtype=int32)"
      ]
     },
     "execution_count": 44,
     "metadata": {},
     "output_type": "execute_result"
    }
   ],
   "source": [
    "#confusion matrix for test data\n",
    "y_pred = model.predict(feat_te2)\n",
    "con_mat = tf.math.confusion_matrix(labels=test_targ, predictions=np.argmax(y_pred,axis=1)).numpy()\n",
    "con_mat"
   ]
  },
  {
   "cell_type": "code",
   "execution_count": 71,
   "metadata": {},
   "outputs": [
    {
     "data": {
      "text/plain": [
       "array([219,   6,   7, 242], dtype=int32)"
      ]
     },
     "execution_count": 71,
     "metadata": {},
     "output_type": "execute_result"
    }
   ],
   "source": [
    "con_mat.flatten()"
   ]
  },
  {
   "cell_type": "code",
   "execution_count": 45,
   "metadata": {},
   "outputs": [
    {
     "data": {
      "text/html": [
       "<div>\n",
       "<style scoped>\n",
       "    .dataframe tbody tr th:only-of-type {\n",
       "        vertical-align: middle;\n",
       "    }\n",
       "\n",
       "    .dataframe tbody tr th {\n",
       "        vertical-align: top;\n",
       "    }\n",
       "\n",
       "    .dataframe thead th {\n",
       "        text-align: right;\n",
       "    }\n",
       "</style>\n",
       "<table border=\"1\" class=\"dataframe\">\n",
       "  <thead>\n",
       "    <tr style=\"text-align: right;\">\n",
       "      <th></th>\n",
       "      <th>0</th>\n",
       "      <th>1</th>\n",
       "    </tr>\n",
       "  </thead>\n",
       "  <tbody>\n",
       "    <tr>\n",
       "      <th>0</th>\n",
       "      <td>0.97</td>\n",
       "      <td>0.03</td>\n",
       "    </tr>\n",
       "    <tr>\n",
       "      <th>1</th>\n",
       "      <td>0.03</td>\n",
       "      <td>0.97</td>\n",
       "    </tr>\n",
       "  </tbody>\n",
       "</table>\n",
       "</div>"
      ],
      "text/plain": [
       "      0     1\n",
       "0  0.97  0.03\n",
       "1  0.03  0.97"
      ]
     },
     "execution_count": 45,
     "metadata": {},
     "output_type": "execute_result"
    }
   ],
   "source": [
    "con_mat_norm = np.around(con_mat.astype('float') / con_mat.sum(axis=1)[:, np.newaxis], decimals=2)\n",
    " \n",
    "con_mat_df = pd.DataFrame(con_mat_norm,\n",
    "                     index = [0,1], \n",
    "                     columns = [0,1])\n",
    "con_mat_df\n",
    "#How do I know what is the order: 0,1 or 1,0??"
   ]
  },
  {
   "cell_type": "code",
   "execution_count": 72,
   "metadata": {},
   "outputs": [
    {
     "data": {
      "text/plain": [
       "array([0.97, 0.03, 0.03, 0.97])"
      ]
     },
     "execution_count": 72,
     "metadata": {},
     "output_type": "execute_result"
    }
   ],
   "source": [
    "con_mat_norm.flatten()"
   ]
  },
  {
   "cell_type": "code",
   "execution_count": 86,
   "metadata": {},
   "outputs": [],
   "source": [
    "labels = [f\"{v1}\\n{v2*100}%\" for v1, v2 in\n",
    "          zip(con_mat.flatten(),con_mat_norm.flatten())]\n",
    "#labels = np.asarray(labels).reshape(2,2)\n",
    "labels = np.asarray(labels).reshape(2,2)"
   ]
  },
  {
   "cell_type": "code",
   "execution_count": 95,
   "metadata": {},
   "outputs": [],
   "source": [
    "categories = [\"0: Real\", \"1: Bogus\"]"
   ]
  },
  {
   "cell_type": "code",
   "execution_count": 97,
   "metadata": {},
   "outputs": [
    {
     "data": {
      "image/png": "[encoded data removed]",
      "text/plain": [
       "<Figure size 288x360 with 1 Axes>"
      ]
     },
     "metadata": {
      "needs_background": "light"
     },
     "output_type": "display_data"
    }
   ],
   "source": [
    "\n",
    "figure = plt.figure(figsize=(4, 5))\n",
    "sns.heatmap(con_mat, annot=labels,cbar=False,fmt='',xticklabels=categories,yticklabels=categories,cmap='Pastel2')#plt.cm.Blues)\n",
    "plt.tight_layout()\n",
    "plt.ylabel('True label')\n",
    "plt.xlabel('Predicted label')\n",
    "plt.savefig(\"confusionmatrixinitmodel.pdf\",bbox_inches=\"tight\")\n",
    "plt.show()"
   ]
  },
  {
   "cell_type": "code",
   "execution_count": null,
   "metadata": {},
   "outputs": [],
   "source": [
    "Colormap Palette is not recognized. Possible values are: Accent, Accent_r, Blues, Blues_r, BrBG, BrBG_r, BuGn, BuGn_r, BuPu, BuPu_r, CMRmap, CMRmap_r, Dark2, Dark2_r, GnBu, GnBu_r, Greens, Greens_r, Greys, Greys_r, OrRd, OrRd_r, Oranges, Oranges_r, PRGn, PRGn_r, Paired, Paired_r, Pastel1, Pastel1_r, Pastel2, Pastel2_r, PiYG, PiYG_r, PuBu, PuBuGn, PuBuGn_r, PuBu_r, PuOr, PuOr_r, PuRd, PuRd_r, Purples, Purples_r, RdBu, RdBu_r, RdGy, RdGy_r, RdPu, RdPu_r, RdYlBu, RdYlBu_r, RdYlGn, RdYlGn_r, Reds, Reds_r, Set1, Set1_r, Set2, Set2_r, Set3, Set3_r, Spectral, Spectral_r, Wistia, Wistia_r, YlGn, YlGnBu, YlGnBu_r, YlGn_r, YlOrBr, YlOrBr_r, YlOrRd, YlOrRd_r, afmhot, afmhot_r, autumn, autumn_r, binary, binary_r, bone, bone_r, brg, brg_r, bwr, bwr_r, cividis, cividis_r, cool, cool_r, coolwarm, coolwarm_r, copper, copper_r, cubehelix, cubehelix_r, flag, flag_r, gist_earth, gist_earth_r, gist_gray, gist_gray_r, gist_heat, gist_heat_r, gist_ncar, gist_ncar_r, gist_rainbow, gist_rainbow_r, gist_stern, gist_stern_r, gist_yarg, gist_yarg_r, gnuplot, gnuplot2, gnuplot2_r, gnuplot_r, gray, gray_r, hot, hot_r, hsv, hsv_r, icefire, icefire_r, inferno, inferno_r, jet, jet_r, magma, magma_r, mako, mako_r, nipy_spectral, nipy_spectral_r, ocean, ocean_r, pink, pink_r, plasma, plasma_r, prism, prism_r, rainbow, rainbow_r, rocket, rocket_r, seismic, seismic_r, spring, spring_r, summer, summer_r, tab10, tab10_r, tab20, tab20_r, tab20b, tab20b_r, tab20c, tab20c_r, terrain, terrain_r, twilight, twilight_r, twilight_shifted, twilight_shifted_r, viridis, viridis_r, vlag, vlag_r, winter, winter_r"
   ]
  }
 ],
 "metadata": {
  "kernelspec": {
   "display_name": "Python 3",
   "language": "python",
   "name": "python3"
  },
  "language_info": {
   "codemirror_mode": {
    "name": "ipython",
    "version": 3
   },
   "file_extension": ".py",
   "mimetype": "text/x-python",
   "name": "python",
   "nbconvert_exporter": "python",
   "pygments_lexer": "ipython3",
   "version": "3.7.6"
  }
 },
 "nbformat": 4,
 "nbformat_minor": 4
}
