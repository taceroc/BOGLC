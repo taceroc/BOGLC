{
 "cells": [
  {
   "cell_type": "code",
   "execution_count": 24,
   "metadata": {},
   "outputs": [],
   "source": [
    "import numpy as np\n",
    "import os\n",
    "import pandas as pd\n",
    "from config import *\n",
    "import glob\n",
    "from astropy.io import fits\n",
    "import matplotlib.pyplot as plt"
   ]
  },
  {
   "cell_type": "code",
   "execution_count": 2,
   "metadata": {},
   "outputs": [
    {
     "name": "stdout",
     "output_type": "stream",
     "text": [
      "Done with 0\n",
      "Done with 1\n",
      "Done with 2\n",
      "Done with 3\n",
      "Done with 4\n",
      "Done with 5\n",
      "Done with 6\n",
      "Done with 7\n",
      "Done with 8\n",
      "Done with 9\n"
     ]
    }
   ],
   "source": [
    "#train = np.zeros((10000*10,51,153))\n",
    "test = np.zeros((1000*10,51,153))\n",
    "\n",
    "#train_targ = np.zeros((10000*10))\n",
    "test_targ = np.zeros((1000*10))\n",
    "\n",
    "#train_ID = np.zeros((10000*10))\n",
    "test_ID = np.zeros((1000*10))\n",
    "\n",
    "#init_len_tr = 0\n",
    "init_len_te = 0\n",
    "for ii in range(10):\n",
    "    test_full= np.load('../data/data_split/test%d'%ii+'.npy') \n",
    "     \n",
    "    test_targ_full= np.load('../data/data_split/test_targ_%d'%ii+'.npy')\n",
    "    \n",
    "    test_ID_full= np.load('../data/data_split/test_ID_%d'%ii+'.npy') \n",
    "    \n",
    "    np.random.seed(3)\n",
    "    random_index_test = np.random.choice(len(test_full), size=1000, replace=False)\n",
    "\n",
    "    \n",
    "    tests = test_full[random_index_test,:,:]\n",
    "    test[init_len_te:init_len_te+len(random_index_test)] = tests\n",
    "    \n",
    "    tests_targ = test_targ_full[random_index_test]\n",
    "    test_targ[init_len_te:init_len_te+len(random_index_test)] = tests_targ\n",
    "    \n",
    "    tests_id = test_ID_full[random_index_test]\n",
    "    test_ID[init_len_te:init_len_te+len(random_index_test)] = tests_id\n",
    "    \n",
    "    init_len_te = init_len_te + len(random_index_test)\n",
    "    \n",
    "\n",
    "    test_full = None\n",
    "    test_targ_full = None\n",
    "    test_ID_full = None\n",
    "    tests = None\n",
    "    tests_id = None\n",
    "    \n",
    "    print(\"Done with {}\".format(ii)) "
   ]
  },
  {
   "cell_type": "code",
   "execution_count": 5,
   "metadata": {},
   "outputs": [
    {
     "data": {
      "text/plain": [
       "(10000, 51, 153)"
      ]
     },
     "execution_count": 5,
     "metadata": {},
     "output_type": "execute_result"
    }
   ],
   "source": [
    "test.shape"
   ]
  },
  {
   "cell_type": "code",
   "execution_count": 26,
   "metadata": {},
   "outputs": [],
   "source": [
    "stdsd = test[:,:,:52].std(axis=(1,2))\n",
    "meansd = test[:,:,:52].mean(axis=(1,2))\n",
    "minsd = test[:,:,:52].min(axis=(1,2))\n",
    "maxsd = test[:,:,:52].max(axis=(1,2))\n",
    "\n",
    "stdss = test[:,:,51:103].std(axis=(1,2))\n",
    "meanss = test[:,:,51:103].mean(axis=(1,2))\n",
    "minss = test[:,:,51:103].min(axis=(1,2))\n",
    "maxss = test[:,:,51:103].max(axis=(1,2))\n",
    "\n",
    "stdst = test[:,:,102:153].std(axis=(1,2))\n",
    "meanst = test[:,:,102:153].mean(axis=(1,2))\n",
    "minst = test[:,:,102:153].min(axis=(1,2))\n",
    "maxst = test[:,:,102:153].max(axis=(1,2))"
   ]
  },
  {
   "cell_type": "code",
   "execution_count": 74,
   "metadata": {},
   "outputs": [],
   "source": [
    "test_ID = test_ID.astype(int)\n",
    "test_targ = test_targ.astype(int)"
   ]
  },
  {
   "cell_type": "code",
   "execution_count": 75,
   "metadata": {},
   "outputs": [
    {
     "data": {
      "text/html": [
       "<div>\n",
       "<style scoped>\n",
       "    .dataframe tbody tr th:only-of-type {\n",
       "        vertical-align: middle;\n",
       "    }\n",
       "\n",
       "    .dataframe tbody tr th {\n",
       "        vertical-align: top;\n",
       "    }\n",
       "\n",
       "    .dataframe thead th {\n",
       "        text-align: right;\n",
       "    }\n",
       "</style>\n",
       "<table border=\"1\" class=\"dataframe\">\n",
       "  <thead>\n",
       "    <tr style=\"text-align: right;\">\n",
       "      <th></th>\n",
       "      <th>ID</th>\n",
       "      <th>TYPE</th>\n",
       "      <th>min_diff</th>\n",
       "      <th>min_srch</th>\n",
       "      <th>min_temp</th>\n",
       "      <th>max_diff</th>\n",
       "      <th>max_srch</th>\n",
       "      <th>max_temp</th>\n",
       "      <th>std_diff</th>\n",
       "      <th>std_srch</th>\n",
       "      <th>std_temp</th>\n",
       "      <th>mean_diff</th>\n",
       "      <th>mean_srch</th>\n",
       "      <th>mean_temp</th>\n",
       "    </tr>\n",
       "  </thead>\n",
       "  <tbody>\n",
       "    <tr>\n",
       "      <td>0</td>\n",
       "      <td>11356276</td>\n",
       "      <td>1</td>\n",
       "      <td>-3.720870</td>\n",
       "      <td>0.0</td>\n",
       "      <td>0.0</td>\n",
       "      <td>4.545385</td>\n",
       "      <td>1.191450</td>\n",
       "      <td>1.027486</td>\n",
       "      <td>0.990697</td>\n",
       "      <td>0.140391</td>\n",
       "      <td>0.120174</td>\n",
       "      <td>0.003696</td>\n",
       "      <td>0.262593</td>\n",
       "      <td>0.095115</td>\n",
       "    </tr>\n",
       "    <tr>\n",
       "      <td>1</td>\n",
       "      <td>9412560</td>\n",
       "      <td>1</td>\n",
       "      <td>-3.695898</td>\n",
       "      <td>0.0</td>\n",
       "      <td>0.0</td>\n",
       "      <td>3.227809</td>\n",
       "      <td>0.640602</td>\n",
       "      <td>1.001167</td>\n",
       "      <td>0.990346</td>\n",
       "      <td>0.105567</td>\n",
       "      <td>0.067880</td>\n",
       "      <td>0.000552</td>\n",
       "      <td>0.073643</td>\n",
       "      <td>0.011361</td>\n",
       "    </tr>\n",
       "    <tr>\n",
       "      <td>2</td>\n",
       "      <td>8540062</td>\n",
       "      <td>1</td>\n",
       "      <td>-3.591272</td>\n",
       "      <td>0.0</td>\n",
       "      <td>0.0</td>\n",
       "      <td>7.316392</td>\n",
       "      <td>1.077196</td>\n",
       "      <td>1.033288</td>\n",
       "      <td>0.990404</td>\n",
       "      <td>0.053680</td>\n",
       "      <td>0.059159</td>\n",
       "      <td>0.001543</td>\n",
       "      <td>0.081465</td>\n",
       "      <td>0.040908</td>\n",
       "    </tr>\n",
       "    <tr>\n",
       "      <td>3</td>\n",
       "      <td>10149330</td>\n",
       "      <td>0</td>\n",
       "      <td>-3.554302</td>\n",
       "      <td>0.0</td>\n",
       "      <td>0.0</td>\n",
       "      <td>3.323105</td>\n",
       "      <td>1.668767</td>\n",
       "      <td>1.316897</td>\n",
       "      <td>0.994892</td>\n",
       "      <td>0.205547</td>\n",
       "      <td>0.099999</td>\n",
       "      <td>0.012818</td>\n",
       "      <td>0.676597</td>\n",
       "      <td>0.327829</td>\n",
       "    </tr>\n",
       "    <tr>\n",
       "      <td>4</td>\n",
       "      <td>7789880</td>\n",
       "      <td>1</td>\n",
       "      <td>-5.846945</td>\n",
       "      <td>0.0</td>\n",
       "      <td>0.0</td>\n",
       "      <td>5.862575</td>\n",
       "      <td>1.008189</td>\n",
       "      <td>1.001565</td>\n",
       "      <td>0.990339</td>\n",
       "      <td>0.078007</td>\n",
       "      <td>0.057323</td>\n",
       "      <td>0.000157</td>\n",
       "      <td>0.023272</td>\n",
       "      <td>0.009020</td>\n",
       "    </tr>\n",
       "    <tr>\n",
       "      <td>...</td>\n",
       "      <td>...</td>\n",
       "      <td>...</td>\n",
       "      <td>...</td>\n",
       "      <td>...</td>\n",
       "      <td>...</td>\n",
       "      <td>...</td>\n",
       "      <td>...</td>\n",
       "      <td>...</td>\n",
       "      <td>...</td>\n",
       "      <td>...</td>\n",
       "      <td>...</td>\n",
       "      <td>...</td>\n",
       "      <td>...</td>\n",
       "      <td>...</td>\n",
       "    </tr>\n",
       "    <tr>\n",
       "      <td>9995</td>\n",
       "      <td>9476886</td>\n",
       "      <td>0</td>\n",
       "      <td>-7.464615</td>\n",
       "      <td>0.0</td>\n",
       "      <td>0.0</td>\n",
       "      <td>4.240749</td>\n",
       "      <td>1.056569</td>\n",
       "      <td>1.028401</td>\n",
       "      <td>0.990382</td>\n",
       "      <td>0.130472</td>\n",
       "      <td>0.116877</td>\n",
       "      <td>0.001244</td>\n",
       "      <td>0.100951</td>\n",
       "      <td>0.063365</td>\n",
       "    </tr>\n",
       "    <tr>\n",
       "      <td>9996</td>\n",
       "      <td>11279388</td>\n",
       "      <td>0</td>\n",
       "      <td>-3.180520</td>\n",
       "      <td>0.0</td>\n",
       "      <td>0.0</td>\n",
       "      <td>4.153554</td>\n",
       "      <td>0.980322</td>\n",
       "      <td>1.549587</td>\n",
       "      <td>0.990356</td>\n",
       "      <td>0.074751</td>\n",
       "      <td>0.178464</td>\n",
       "      <td>0.000819</td>\n",
       "      <td>0.050589</td>\n",
       "      <td>0.563309</td>\n",
       "    </tr>\n",
       "    <tr>\n",
       "      <td>9997</td>\n",
       "      <td>7921827</td>\n",
       "      <td>1</td>\n",
       "      <td>-7.047901</td>\n",
       "      <td>0.0</td>\n",
       "      <td>0.0</td>\n",
       "      <td>3.745021</td>\n",
       "      <td>1.032382</td>\n",
       "      <td>1.013402</td>\n",
       "      <td>0.990362</td>\n",
       "      <td>0.094559</td>\n",
       "      <td>0.097557</td>\n",
       "      <td>0.000857</td>\n",
       "      <td>0.063188</td>\n",
       "      <td>0.045139</td>\n",
       "    </tr>\n",
       "    <tr>\n",
       "      <td>9998</td>\n",
       "      <td>10085008</td>\n",
       "      <td>0</td>\n",
       "      <td>-3.494092</td>\n",
       "      <td>0.0</td>\n",
       "      <td>0.0</td>\n",
       "      <td>16.477507</td>\n",
       "      <td>1.095464</td>\n",
       "      <td>1.152418</td>\n",
       "      <td>0.990417</td>\n",
       "      <td>0.066541</td>\n",
       "      <td>0.125737</td>\n",
       "      <td>0.001709</td>\n",
       "      <td>0.110116</td>\n",
       "      <td>0.190021</td>\n",
       "    </tr>\n",
       "    <tr>\n",
       "      <td>9999</td>\n",
       "      <td>6966058</td>\n",
       "      <td>0</td>\n",
       "      <td>-4.108278</td>\n",
       "      <td>0.0</td>\n",
       "      <td>0.0</td>\n",
       "      <td>4.205720</td>\n",
       "      <td>1.216716</td>\n",
       "      <td>1.673790</td>\n",
       "      <td>0.990562</td>\n",
       "      <td>0.083077</td>\n",
       "      <td>0.202978</td>\n",
       "      <td>0.002864</td>\n",
       "      <td>0.163057</td>\n",
       "      <td>0.680733</td>\n",
       "    </tr>\n",
       "  </tbody>\n",
       "</table>\n",
       "<p>10000 rows × 14 columns</p>\n",
       "</div>"
      ],
      "text/plain": [
       "            ID  TYPE  min_diff  min_srch  min_temp   max_diff  max_srch  \\\n",
       "0     11356276     1 -3.720870       0.0       0.0   4.545385  1.191450   \n",
       "1      9412560     1 -3.695898       0.0       0.0   3.227809  0.640602   \n",
       "2      8540062     1 -3.591272       0.0       0.0   7.316392  1.077196   \n",
       "3     10149330     0 -3.554302       0.0       0.0   3.323105  1.668767   \n",
       "4      7789880     1 -5.846945       0.0       0.0   5.862575  1.008189   \n",
       "...        ...   ...       ...       ...       ...        ...       ...   \n",
       "9995   9476886     0 -7.464615       0.0       0.0   4.240749  1.056569   \n",
       "9996  11279388     0 -3.180520       0.0       0.0   4.153554  0.980322   \n",
       "9997   7921827     1 -7.047901       0.0       0.0   3.745021  1.032382   \n",
       "9998  10085008     0 -3.494092       0.0       0.0  16.477507  1.095464   \n",
       "9999   6966058     0 -4.108278       0.0       0.0   4.205720  1.216716   \n",
       "\n",
       "      max_temp  std_diff  std_srch  std_temp  mean_diff  mean_srch  mean_temp  \n",
       "0     1.027486  0.990697  0.140391  0.120174   0.003696   0.262593   0.095115  \n",
       "1     1.001167  0.990346  0.105567  0.067880   0.000552   0.073643   0.011361  \n",
       "2     1.033288  0.990404  0.053680  0.059159   0.001543   0.081465   0.040908  \n",
       "3     1.316897  0.994892  0.205547  0.099999   0.012818   0.676597   0.327829  \n",
       "4     1.001565  0.990339  0.078007  0.057323   0.000157   0.023272   0.009020  \n",
       "...        ...       ...       ...       ...        ...        ...        ...  \n",
       "9995  1.028401  0.990382  0.130472  0.116877   0.001244   0.100951   0.063365  \n",
       "9996  1.549587  0.990356  0.074751  0.178464   0.000819   0.050589   0.563309  \n",
       "9997  1.013402  0.990362  0.094559  0.097557   0.000857   0.063188   0.045139  \n",
       "9998  1.152418  0.990417  0.066541  0.125737   0.001709   0.110116   0.190021  \n",
       "9999  1.673790  0.990562  0.083077  0.202978   0.002864   0.163057   0.680733  \n",
       "\n",
       "[10000 rows x 14 columns]"
      ]
     },
     "execution_count": 75,
     "metadata": {},
     "output_type": "execute_result"
    }
   ],
   "source": [
    "ss_test = pd.DataFrame({\"ID\":test_ID, \"TYPE\":test_targ,\n",
    "              \"min_diff\":minsd,\"min_srch\":minss,\"min_temp\":minst,\n",
    "              \"max_diff\":maxsd,\"max_srch\":maxss,\"max_temp\":maxst,\n",
    "              \"std_diff\":stdsd,\"std_srch\":stdss,\"std_temp\":stdst,\n",
    "              \"mean_diff\":meansd,\"mean_srch\":meanss,\"mean_temp\":meanst})\n",
    "ss_test"
   ]
  },
  {
   "cell_type": "code",
   "execution_count": 76,
   "metadata": {},
   "outputs": [
    {
     "data": {
      "text/plain": [
       "(-29.32943889718078, -0.13100027929765096)"
      ]
     },
     "execution_count": 76,
     "metadata": {},
     "output_type": "execute_result"
    }
   ],
   "source": [
    "ss_test[\"min_diff\"].min(),ss_test[\"min_diff\"].max()"
   ]
  },
  {
   "cell_type": "code",
   "execution_count": 77,
   "metadata": {},
   "outputs": [
    {
     "data": {
      "text/plain": [
       "(0.7550389404197264, 42.13604378481264)"
      ]
     },
     "execution_count": 77,
     "metadata": {},
     "output_type": "execute_result"
    }
   ],
   "source": [
    "ss_test[\"max_diff\"].min(),ss_test[\"max_diff\"].max()"
   ]
  },
  {
   "cell_type": "code",
   "execution_count": 82,
   "metadata": {},
   "outputs": [
    {
     "data": {
      "text/plain": [
       "(0.9903379376602871, 2.8112896829592655)"
      ]
     },
     "execution_count": 82,
     "metadata": {},
     "output_type": "execute_result"
    }
   ],
   "source": [
    "ss_test[\"std_diff\"].min(),ss_test[\"std_diff\"].max()"
   ]
  },
  {
   "cell_type": "code",
   "execution_count": 83,
   "metadata": {},
   "outputs": [
    {
     "data": {
      "text/plain": [
       "(6.0283603147067325e-18, 0.36841345186359314)"
      ]
     },
     "execution_count": 83,
     "metadata": {},
     "output_type": "execute_result"
    }
   ],
   "source": [
    "ss_test[\"mean_diff\"].min(),ss_test[\"mean_diff\"].max()"
   ]
  },
  {
   "cell_type": "code",
   "execution_count": 78,
   "metadata": {},
   "outputs": [
    {
     "data": {
      "text/plain": [
       "(0.0, 0.0)"
      ]
     },
     "execution_count": 78,
     "metadata": {},
     "output_type": "execute_result"
    }
   ],
   "source": [
    "ss_test[\"min_srch\"].min(),ss_test[\"min_srch\"].max()"
   ]
  },
  {
   "cell_type": "code",
   "execution_count": 79,
   "metadata": {},
   "outputs": [
    {
     "data": {
      "text/plain": [
       "(0.05131203485404407, 20.13851255474805)"
      ]
     },
     "execution_count": 79,
     "metadata": {},
     "output_type": "execute_result"
    }
   ],
   "source": [
    "ss_test[\"max_srch\"].min(),ss_test[\"max_srch\"].max()"
   ]
  },
  {
   "cell_type": "code",
   "execution_count": null,
   "metadata": {},
   "outputs": [],
   "source": [
    "(y-ymin) / ymax\n",
    "\n",
    "(y-ymin) / (ymax-ymin)"
   ]
  },
  {
   "cell_type": "code",
   "execution_count": 84,
   "metadata": {},
   "outputs": [
    {
     "data": {
      "text/plain": [
       "(0.0, 0.0)"
      ]
     },
     "execution_count": 84,
     "metadata": {},
     "output_type": "execute_result"
    }
   ],
   "source": [
    "ss_test[\"min_temp\"].min(),ss_test[\"min_temp\"].max()"
   ]
  },
  {
   "cell_type": "code",
   "execution_count": 85,
   "metadata": {},
   "outputs": [
    {
     "data": {
      "text/plain": [
       "(0.9475437695356201, 26.963457402589402)"
      ]
     },
     "execution_count": 85,
     "metadata": {},
     "output_type": "execute_result"
    }
   ],
   "source": [
    "ss_test[\"max_temp\"].min(),ss_test[\"max_temp\"].max()"
   ]
  },
  {
   "cell_type": "code",
   "execution_count": 81,
   "metadata": {},
   "outputs": [
    {
     "data": {
      "text/html": [
       "<div>\n",
       "<style scoped>\n",
       "    .dataframe tbody tr th:only-of-type {\n",
       "        vertical-align: middle;\n",
       "    }\n",
       "\n",
       "    .dataframe tbody tr th {\n",
       "        vertical-align: top;\n",
       "    }\n",
       "\n",
       "    .dataframe thead th {\n",
       "        text-align: right;\n",
       "    }\n",
       "</style>\n",
       "<table border=\"1\" class=\"dataframe\">\n",
       "  <thead>\n",
       "    <tr style=\"text-align: right;\">\n",
       "      <th></th>\n",
       "      <th>ID</th>\n",
       "      <th>TYPE</th>\n",
       "      <th>min_diff</th>\n",
       "      <th>min_srch</th>\n",
       "      <th>min_temp</th>\n",
       "      <th>max_diff</th>\n",
       "      <th>max_srch</th>\n",
       "      <th>max_temp</th>\n",
       "      <th>std_diff</th>\n",
       "      <th>std_srch</th>\n",
       "      <th>std_temp</th>\n",
       "      <th>mean_diff</th>\n",
       "      <th>mean_srch</th>\n",
       "      <th>mean_temp</th>\n",
       "    </tr>\n",
       "  </thead>\n",
       "  <tbody>\n",
       "    <tr>\n",
       "      <td>2437</td>\n",
       "      <td>10045887</td>\n",
       "      <td>1</td>\n",
       "      <td>-3.967538</td>\n",
       "      <td>0.0</td>\n",
       "      <td>0.0</td>\n",
       "      <td>19.49921</td>\n",
       "      <td>20.138513</td>\n",
       "      <td>6.263555</td>\n",
       "      <td>2.81129</td>\n",
       "      <td>2.468413</td>\n",
       "      <td>0.840643</td>\n",
       "      <td>0.368413</td>\n",
       "      <td>18.736561</td>\n",
       "      <td>5.113385</td>\n",
       "    </tr>\n",
       "  </tbody>\n",
       "</table>\n",
       "</div>"
      ],
      "text/plain": [
       "            ID  TYPE  min_diff  min_srch  min_temp  max_diff   max_srch  \\\n",
       "2437  10045887     1 -3.967538       0.0       0.0  19.49921  20.138513   \n",
       "\n",
       "      max_temp  std_diff  std_srch  std_temp  mean_diff  mean_srch  mean_temp  \n",
       "2437  6.263555   2.81129  2.468413  0.840643   0.368413  18.736561   5.113385  "
      ]
     },
     "execution_count": 81,
     "metadata": {},
     "output_type": "execute_result"
    }
   ],
   "source": [
    "ss_test[ss_test[\"max_srch\"] == ss_test[\"max_srch\"].max()]"
   ]
  },
  {
   "cell_type": "code",
   "execution_count": 86,
   "metadata": {},
   "outputs": [
    {
     "data": {
      "text/html": [
       "<div>\n",
       "<style scoped>\n",
       "    .dataframe tbody tr th:only-of-type {\n",
       "        vertical-align: middle;\n",
       "    }\n",
       "\n",
       "    .dataframe tbody tr th {\n",
       "        vertical-align: top;\n",
       "    }\n",
       "\n",
       "    .dataframe thead th {\n",
       "        text-align: right;\n",
       "    }\n",
       "</style>\n",
       "<table border=\"1\" class=\"dataframe\">\n",
       "  <thead>\n",
       "    <tr style=\"text-align: right;\">\n",
       "      <th></th>\n",
       "      <th>ID</th>\n",
       "      <th>TYPE</th>\n",
       "      <th>min_diff</th>\n",
       "      <th>min_srch</th>\n",
       "      <th>min_temp</th>\n",
       "      <th>max_diff</th>\n",
       "      <th>max_srch</th>\n",
       "      <th>max_temp</th>\n",
       "      <th>std_diff</th>\n",
       "      <th>std_srch</th>\n",
       "      <th>std_temp</th>\n",
       "      <th>mean_diff</th>\n",
       "      <th>mean_srch</th>\n",
       "      <th>mean_temp</th>\n",
       "    </tr>\n",
       "  </thead>\n",
       "  <tbody>\n",
       "    <tr>\n",
       "      <td>7322</td>\n",
       "      <td>8451852</td>\n",
       "      <td>1</td>\n",
       "      <td>-1.927139</td>\n",
       "      <td>0.0</td>\n",
       "      <td>0.0</td>\n",
       "      <td>8.553924</td>\n",
       "      <td>0.623275</td>\n",
       "      <td>26.963457</td>\n",
       "      <td>0.991204</td>\n",
       "      <td>0.079403</td>\n",
       "      <td>7.508307</td>\n",
       "      <td>0.005789</td>\n",
       "      <td>0.078108</td>\n",
       "      <td>23.485922</td>\n",
       "    </tr>\n",
       "  </tbody>\n",
       "</table>\n",
       "</div>"
      ],
      "text/plain": [
       "           ID  TYPE  min_diff  min_srch  min_temp  max_diff  max_srch  \\\n",
       "7322  8451852     1 -1.927139       0.0       0.0  8.553924  0.623275   \n",
       "\n",
       "       max_temp  std_diff  std_srch  std_temp  mean_diff  mean_srch  mean_temp  \n",
       "7322  26.963457  0.991204  0.079403  7.508307   0.005789   0.078108  23.485922  "
      ]
     },
     "execution_count": 86,
     "metadata": {},
     "output_type": "execute_result"
    }
   ],
   "source": [
    "ss_test[ss_test[\"max_temp\"] == ss_test[\"max_temp\"].max()]"
   ]
  },
  {
   "cell_type": "code",
   "execution_count": 87,
   "metadata": {},
   "outputs": [
    {
     "data": {
      "image/png": "[encoded data removed]",
      "text/plain": [
       "<Figure size 432x288 with 3 Axes>"
      ]
     },
     "metadata": {
      "needs_background": "light"
     },
     "output_type": "display_data"
    }
   ],
   "source": [
    "fig, ax = plt.subplots(3,1)\n",
    "ax[0].hist(test[7322][:,:52])\n",
    "ax[1].hist(test[7322][:,51:103])\n",
    "ax[2].hist(test[7322][:,102:153])\n",
    "plt.show()"
   ]
  },
  {
   "cell_type": "code",
   "execution_count": 25,
   "metadata": {},
   "outputs": [],
   "source": [
    "import imageio as iio"
   ]
  },
  {
   "cell_type": "code",
   "execution_count": 26,
   "metadata": {},
   "outputs": [],
   "source": [
    "plt.rcParams['axes.grid'] = False"
   ]
  },
  {
   "cell_type": "code",
   "execution_count": 42,
   "metadata": {},
   "outputs": [
    {
     "data": {
      "text/plain": [
       "<matplotlib.image.AxesImage at 0x2aab236656d0>"
      ]
     },
     "execution_count": 42,
     "metadata": {},
     "output_type": "execute_result"
    },
    {
     "data": {
      "image/png": "[encoded data removed]",
      "text/plain": [
       "<Figure size 720x720 with 6 Axes>"
      ]
     },
     "metadata": {
      "needs_background": "light"
     },
     "output_type": "display_data"
    }
   ],
   "source": [
    "imfd = fits.open(('../data/stamps6/SNWG/Archive/2013/Y1/20131209/488183092/diff10335273.fits'))[0].data\n",
    "imfs = fits.open(('../data/stamps6/SNWG/Archive/2013/Y1/20131209/488183092/srch10335273.fits'))[0].data\n",
    "imft = fits.open(('../data/stamps6/SNWG/Archive/2013/Y1/20131209/488183092/temp10335273.fits'))[0].data\n",
    "imgd = iio.imread('../data/stamps6/SNWG/Archive/2013/Y1/20131209/488183092/diff10335273.gif')\n",
    "imgs = iio.imread('../data/stamps6/SNWG/Archive/2013/Y1/20131209/488183092/srch10335273.gif')\n",
    "imgt = iio.imread('../data/stamps6/SNWG/Archive/2013/Y1/20131209/488183092/temp10335273.gif')\n",
    "\n",
    "fig, ax = plt.subplots(2,3,figsize=(10,10))\n",
    "ax[0,0].set_title(\"diff\")\n",
    "ax[0,0].imshow(imgd)\n",
    "ax[0,1].set_title(\"gif format \\n srch\")\n",
    "ax[0,1].imshow(imgs)\n",
    "ax[0,2].set_title(\"temp\")\n",
    "ax[0,2].imshow(imgt)\n",
    "\n",
    "ax[1,0].set_title(\"diff\")\n",
    "ax[1,0].imshow(imfd)\n",
    "ax[1,1].set_title(\"fits format \\n srch\")\n",
    "ax[1,1].imshow(imfs)\n",
    "ax[1,2].set_title(\"temp\")\n",
    "ax[1,2].imshow(imft)\n",
    "\n",
    "#plt.savefig(\"10335273.pdf\",bbox_inches=\"tight\")"
   ]
  },
  {
   "cell_type": "code",
   "execution_count": 2,
   "metadata": {},
   "outputs": [],
   "source": [
    "train_full= np.load('../data/data_split_n/train0.npy')"
   ]
  },
  {
   "cell_type": "code",
   "execution_count": 11,
   "metadata": {},
   "outputs": [],
   "source": [
    "for ii in range(8,9):\n",
    "    train_full= np.load('../data/data_split/train%d'%ii+'.npy') \n",
    "    test_full= np.load('../data/data_split/test%d'%ii+'.npy') \n",
    "    \n",
    "    train_targ_full= np.load('../data/data_split/train_targ_%d'%ii+'.npy') \n",
    "    test_targ_full= np.load('../data/data_split/test_targ_%d'%ii+'.npy')\n",
    "    \n",
    "    train_ID_full= np.load('../data/data_split/train_ID_%d'%ii+'.npy') \n",
    "    test_ID_full= np.load('../data/data_split/test_ID_%d'%ii+'.npy') "
   ]
  },
  {
   "cell_type": "code",
   "execution_count": 17,
   "metadata": {},
   "outputs": [
    {
     "data": {
      "text/html": [
       "<div>\n",
       "<style scoped>\n",
       "    .dataframe tbody tr th:only-of-type {\n",
       "        vertical-align: middle;\n",
       "    }\n",
       "\n",
       "    .dataframe tbody tr th {\n",
       "        vertical-align: top;\n",
       "    }\n",
       "\n",
       "    .dataframe thead th {\n",
       "        text-align: right;\n",
       "    }\n",
       "</style>\n",
       "<table border=\"1\" class=\"dataframe\">\n",
       "  <thead>\n",
       "    <tr style=\"text-align: right;\">\n",
       "      <th></th>\n",
       "      <th>ID</th>\n",
       "      <th>TY</th>\n",
       "    </tr>\n",
       "  </thead>\n",
       "  <tbody>\n",
       "    <tr>\n",
       "      <td>66905</td>\n",
       "      <td>11864663</td>\n",
       "      <td>0</td>\n",
       "    </tr>\n",
       "    <tr>\n",
       "      <td>66906</td>\n",
       "      <td>11864693</td>\n",
       "      <td>0</td>\n",
       "    </tr>\n",
       "    <tr>\n",
       "      <td>66907</td>\n",
       "      <td>11864898</td>\n",
       "      <td>1</td>\n",
       "    </tr>\n",
       "    <tr>\n",
       "      <td>66908</td>\n",
       "      <td>11864906</td>\n",
       "      <td>1</td>\n",
       "    </tr>\n",
       "    <tr>\n",
       "      <td>66909</td>\n",
       "      <td>11865164</td>\n",
       "      <td>0</td>\n",
       "    </tr>\n",
       "    <tr>\n",
       "      <td>...</td>\n",
       "      <td>...</td>\n",
       "      <td>...</td>\n",
       "    </tr>\n",
       "    <tr>\n",
       "      <td>67000</td>\n",
       "      <td>11873612</td>\n",
       "      <td>1</td>\n",
       "    </tr>\n",
       "    <tr>\n",
       "      <td>67001</td>\n",
       "      <td>11873889</td>\n",
       "      <td>0</td>\n",
       "    </tr>\n",
       "    <tr>\n",
       "      <td>67002</td>\n",
       "      <td>11874008</td>\n",
       "      <td>0</td>\n",
       "    </tr>\n",
       "    <tr>\n",
       "      <td>67003</td>\n",
       "      <td>11874042</td>\n",
       "      <td>0</td>\n",
       "    </tr>\n",
       "    <tr>\n",
       "      <td>67004</td>\n",
       "      <td>11874742</td>\n",
       "      <td>1</td>\n",
       "    </tr>\n",
       "  </tbody>\n",
       "</table>\n",
       "<p>100 rows × 2 columns</p>\n",
       "</div>"
      ],
      "text/plain": [
       "             ID  TY\n",
       "66905  11864663   0\n",
       "66906  11864693   0\n",
       "66907  11864898   1\n",
       "66908  11864906   1\n",
       "66909  11865164   0\n",
       "...         ...  ..\n",
       "67000  11873612   1\n",
       "67001  11873889   0\n",
       "67002  11874008   0\n",
       "67003  11874042   0\n",
       "67004  11874742   1\n",
       "\n",
       "[100 rows x 2 columns]"
      ]
     },
     "execution_count": 17,
     "metadata": {},
     "output_type": "execute_result"
    }
   ],
   "source": [
    "pd.DataFrame({\"ID\":train_ID_full, \"TY\":train_targ_full})[-100:]"
   ]
  },
  {
   "cell_type": "code",
   "execution_count": 16,
   "metadata": {},
   "outputs": [
    {
     "data": {
      "text/plain": [
       "<matplotlib.image.AxesImage at 0x2aaad932b110>"
      ]
     },
     "execution_count": 16,
     "metadata": {},
     "output_type": "execute_result"
    },
    {
     "data": {
      "image/png": "[encoded data removed]",
      "text/plain": [
       "<Figure size 432x288 with 1 Axes>"
      ]
     },
     "metadata": {
      "needs_background": "light"
     },
     "output_type": "display_data"
    }
   ],
   "source": [
    "plt.imshow(train_full[66995])"
   ]
  },
  {
   "cell_type": "code",
   "execution_count": 54,
   "metadata": {},
   "outputs": [],
   "source": [
    "test_targ_full= np.load('../data/data_split/test_targ_8.npy')\n",
    "test_ID_full= np.load('../data/data_split/test_ID_8.npy')\n",
    "train_targ_full= np.load('../data/data_split/train_targ_8.npy')\n",
    "train_ID_full= np.load('../data/data_split/train_ID_8.npy')\n",
    "\n",
    "test_targ_full_n= np.load('../data/data_split_n/test_targ_8.npy')\n",
    "test_ID_full_n= np.load('../data/data_split_n/test_ID_8.npy')\n",
    "train_targ_full_n= np.load('../data/data_split_n/train_targ_8.npy')\n",
    "train_ID_full_n= np.load('../data/data_split_n/train_ID_8.npy')\n",
    "\n"
   ]
  },
  {
   "cell_type": "code",
   "execution_count": 16,
   "metadata": {},
   "outputs": [],
   "source": [
    "total_targ = np.concatenate((test_targ_full,train_targ_full))\n",
    "total_targ_n = np.concatenate((test_targ_full_n,train_targ_full_n))\n",
    "\n",
    "total_ID = np.concatenate((test_ID_full,train_ID_full))\n",
    "total_ID_n = np.concatenate((test_ID_full_n,train_ID_full_n))"
   ]
  },
  {
   "cell_type": "code",
   "execution_count": 17,
   "metadata": {},
   "outputs": [],
   "source": [
    "df = pd.DataFrame({\"ID\":total_ID, \"TY\":total_targ}).sort_values(by= [\"ID\"]).reset_index(drop=True)"
   ]
  },
  {
   "cell_type": "code",
   "execution_count": 18,
   "metadata": {},
   "outputs": [],
   "source": [
    "df_n = pd.DataFrame({\"ID\":total_ID_n, \"TY\":total_targ_n}).sort_values(by= [\"ID\"]).reset_index(drop=True)\n"
   ]
  },
  {
   "cell_type": "code",
   "execution_count": 21,
   "metadata": {},
   "outputs": [
    {
     "data": {
      "text/html": [
       "<div>\n",
       "<style scoped>\n",
       "    .dataframe tbody tr th:only-of-type {\n",
       "        vertical-align: middle;\n",
       "    }\n",
       "\n",
       "    .dataframe tbody tr th {\n",
       "        vertical-align: top;\n",
       "    }\n",
       "\n",
       "    .dataframe thead th {\n",
       "        text-align: right;\n",
       "    }\n",
       "</style>\n",
       "<table border=\"1\" class=\"dataframe\">\n",
       "  <thead>\n",
       "    <tr style=\"text-align: right;\">\n",
       "      <th></th>\n",
       "      <th>ID</th>\n",
       "      <th>TY</th>\n",
       "    </tr>\n",
       "  </thead>\n",
       "  <tbody>\n",
       "    <tr>\n",
       "      <td>0</td>\n",
       "      <td>True</td>\n",
       "      <td>True</td>\n",
       "    </tr>\n",
       "    <tr>\n",
       "      <td>1</td>\n",
       "      <td>True</td>\n",
       "      <td>True</td>\n",
       "    </tr>\n",
       "    <tr>\n",
       "      <td>2</td>\n",
       "      <td>True</td>\n",
       "      <td>True</td>\n",
       "    </tr>\n",
       "    <tr>\n",
       "      <td>3</td>\n",
       "      <td>True</td>\n",
       "      <td>True</td>\n",
       "    </tr>\n",
       "    <tr>\n",
       "      <td>4</td>\n",
       "      <td>True</td>\n",
       "      <td>True</td>\n",
       "    </tr>\n",
       "    <tr>\n",
       "      <td>...</td>\n",
       "      <td>...</td>\n",
       "      <td>...</td>\n",
       "    </tr>\n",
       "    <tr>\n",
       "      <td>89335</td>\n",
       "      <td>True</td>\n",
       "      <td>True</td>\n",
       "    </tr>\n",
       "    <tr>\n",
       "      <td>89336</td>\n",
       "      <td>True</td>\n",
       "      <td>True</td>\n",
       "    </tr>\n",
       "    <tr>\n",
       "      <td>89337</td>\n",
       "      <td>True</td>\n",
       "      <td>True</td>\n",
       "    </tr>\n",
       "    <tr>\n",
       "      <td>89338</td>\n",
       "      <td>True</td>\n",
       "      <td>True</td>\n",
       "    </tr>\n",
       "    <tr>\n",
       "      <td>89339</td>\n",
       "      <td>True</td>\n",
       "      <td>True</td>\n",
       "    </tr>\n",
       "  </tbody>\n",
       "</table>\n",
       "<p>89340 rows × 2 columns</p>\n",
       "</div>"
      ],
      "text/plain": [
       "         ID    TY\n",
       "0      True  True\n",
       "1      True  True\n",
       "2      True  True\n",
       "3      True  True\n",
       "4      True  True\n",
       "...     ...   ...\n",
       "89335  True  True\n",
       "89336  True  True\n",
       "89337  True  True\n",
       "89338  True  True\n",
       "89339  True  True\n",
       "\n",
       "[89340 rows x 2 columns]"
      ]
     },
     "execution_count": 21,
     "metadata": {},
     "output_type": "execute_result"
    }
   ],
   "source": [
    "df == df_n"
   ]
  },
  {
   "cell_type": "code",
   "execution_count": 20,
   "metadata": {},
   "outputs": [
    {
     "data": {
      "text/html": [
       "<div>\n",
       "<style scoped>\n",
       "    .dataframe tbody tr th:only-of-type {\n",
       "        vertical-align: middle;\n",
       "    }\n",
       "\n",
       "    .dataframe tbody tr th {\n",
       "        vertical-align: top;\n",
       "    }\n",
       "\n",
       "    .dataframe thead th {\n",
       "        text-align: right;\n",
       "    }\n",
       "</style>\n",
       "<table border=\"1\" class=\"dataframe\">\n",
       "  <thead>\n",
       "    <tr style=\"text-align: right;\">\n",
       "      <th></th>\n",
       "      <th>ID</th>\n",
       "      <th>TY</th>\n",
       "    </tr>\n",
       "  </thead>\n",
       "  <tbody>\n",
       "    <tr>\n",
       "      <td>0</td>\n",
       "      <td>6961317</td>\n",
       "      <td>0</td>\n",
       "    </tr>\n",
       "    <tr>\n",
       "      <td>1</td>\n",
       "      <td>6961344</td>\n",
       "      <td>1</td>\n",
       "    </tr>\n",
       "    <tr>\n",
       "      <td>2</td>\n",
       "      <td>6961438</td>\n",
       "      <td>1</td>\n",
       "    </tr>\n",
       "    <tr>\n",
       "      <td>3</td>\n",
       "      <td>6961442</td>\n",
       "      <td>0</td>\n",
       "    </tr>\n",
       "    <tr>\n",
       "      <td>4</td>\n",
       "      <td>6961447</td>\n",
       "      <td>1</td>\n",
       "    </tr>\n",
       "    <tr>\n",
       "      <td>...</td>\n",
       "      <td>...</td>\n",
       "      <td>...</td>\n",
       "    </tr>\n",
       "    <tr>\n",
       "      <td>89335</td>\n",
       "      <td>11874126</td>\n",
       "      <td>0</td>\n",
       "    </tr>\n",
       "    <tr>\n",
       "      <td>89336</td>\n",
       "      <td>11874202</td>\n",
       "      <td>0</td>\n",
       "    </tr>\n",
       "    <tr>\n",
       "      <td>89337</td>\n",
       "      <td>11874269</td>\n",
       "      <td>1</td>\n",
       "    </tr>\n",
       "    <tr>\n",
       "      <td>89338</td>\n",
       "      <td>11874536</td>\n",
       "      <td>0</td>\n",
       "    </tr>\n",
       "    <tr>\n",
       "      <td>89339</td>\n",
       "      <td>11874742</td>\n",
       "      <td>1</td>\n",
       "    </tr>\n",
       "  </tbody>\n",
       "</table>\n",
       "<p>89340 rows × 2 columns</p>\n",
       "</div>"
      ],
      "text/plain": [
       "             ID  TY\n",
       "0       6961317   0\n",
       "1       6961344   1\n",
       "2       6961438   1\n",
       "3       6961442   0\n",
       "4       6961447   1\n",
       "...         ...  ..\n",
       "89335  11874126   0\n",
       "89336  11874202   0\n",
       "89337  11874269   1\n",
       "89338  11874536   0\n",
       "89339  11874742   1\n",
       "\n",
       "[89340 rows x 2 columns]"
      ]
     },
     "execution_count": 20,
     "metadata": {},
     "output_type": "execute_result"
    }
   ],
   "source": [
    "df_n"
   ]
  },
  {
   "cell_type": "code",
   "execution_count": 63,
   "metadata": {},
   "outputs": [],
   "source": [
    "testfulln= np.load('../data/data_split_n/test8.npy')\n",
    "testfull= np.load('../data/data_split/test8.npy')\n"
   ]
  },
  {
   "cell_type": "code",
   "execution_count": 64,
   "metadata": {},
   "outputs": [
    {
     "data": {
      "text/plain": [
       "39.4050448240596"
      ]
     },
     "execution_count": 64,
     "metadata": {},
     "output_type": "execute_result"
    }
   ],
   "source": [
    "testfull.max()"
   ]
  },
  {
   "cell_type": "code",
   "execution_count": 65,
   "metadata": {},
   "outputs": [
    {
     "data": {
      "text/plain": [
       "75024.56052398682"
      ]
     },
     "execution_count": 65,
     "metadata": {},
     "output_type": "execute_result"
    }
   ],
   "source": [
    "testfulln.max()"
   ]
  },
  {
   "cell_type": "code",
   "execution_count": null,
   "metadata": {},
   "outputs": [],
   "source": []
  }
 ],
 "metadata": {
  "kernelspec": {
   "display_name": "Python 3",
   "language": "python",
   "name": "python3"
  },
  "language_info": {
   "codemirror_mode": {
    "name": "ipython",
    "version": 3
   },
   "file_extension": ".py",
   "mimetype": "text/x-python",
   "name": "python",
   "nbconvert_exporter": "python",
   "pygments_lexer": "ipython3",
   "version": "3.7.4"
  }
 },
 "nbformat": 4,
 "nbformat_minor": 4
}
