{
 "cells": [
  {
   "cell_type": "code",
   "execution_count": 2,
   "metadata": {},
   "outputs": [],
   "source": [
    "import numpy as np\n",
    "import os\n",
    "import pandas as pd\n",
    "from config import *\n",
    "import glob\n",
    "from astropy.io import fits\n",
    "import matplotlib.pyplot as plt\n",
    "import tensorflow as tf\n",
    "from tensorflow import keras\n",
    "import time"
   ]
  },
  {
   "cell_type": "code",
   "execution_count": 3,
   "metadata": {},
   "outputs": [],
   "source": [
    "flist = np.load('../data/paths.npy')"
   ]
  },
  {
   "cell_type": "code",
   "execution_count": 4,
   "metadata": {},
   "outputs": [
    {
     "data": {
      "text/plain": [
       "(array([2146929, 2146930, 2146931]),)"
      ]
     },
     "execution_count": 4,
     "metadata": {},
     "output_type": "execute_result"
    }
   ],
   "source": [
    "index = np.where(np.char.find(flist, '6961317')>=0)\n",
    "index"
   ]
  },
  {
   "cell_type": "code",
   "execution_count": 5,
   "metadata": {},
   "outputs": [
    {
     "data": {
      "text/plain": [
       "array(['/global/cscratch1/sd/taceroc/data/stamps8/SNWG/Archive/2013/Y1/20130829/470660401/diff6961317.fits',\n",
       "       '/global/cscratch1/sd/taceroc/data/stamps8/SNWG/Archive/2013/Y1/20130829/470660401/srch6961317.fits',\n",
       "       '/global/cscratch1/sd/taceroc/data/stamps8/SNWG/Archive/2013/Y1/20130829/470660401/temp6961317.fits'],\n",
       "      dtype='<U99')"
      ]
     },
     "execution_count": 5,
     "metadata": {},
     "output_type": "execute_result"
    }
   ],
   "source": [
    "flist[index[0]]"
   ]
  },
  {
   "cell_type": "code",
   "execution_count": 6,
   "metadata": {},
   "outputs": [
    {
     "data": {
      "text/html": [
       "<div>\n",
       "<style scoped>\n",
       "    .dataframe tbody tr th:only-of-type {\n",
       "        vertical-align: middle;\n",
       "    }\n",
       "\n",
       "    .dataframe tbody tr th {\n",
       "        vertical-align: top;\n",
       "    }\n",
       "\n",
       "    .dataframe thead th {\n",
       "        text-align: right;\n",
       "    }\n",
       "</style>\n",
       "<table border=\"1\" class=\"dataframe\">\n",
       "  <thead>\n",
       "    <tr style=\"text-align: right;\">\n",
       "      <th></th>\n",
       "      <th>ID</th>\n",
       "      <th>OBJECT_TYPE</th>\n",
       "      <th>AMP</th>\n",
       "      <th>A_IMAGE</th>\n",
       "      <th>A_REF</th>\n",
       "      <th>BAND</th>\n",
       "      <th>B_IMAGE</th>\n",
       "      <th>B_REF</th>\n",
       "      <th>CCDID</th>\n",
       "      <th>COLMEDS</th>\n",
       "      <th>...</th>\n",
       "      <th>N3SIG3</th>\n",
       "      <th>N3SIG3SHIFT</th>\n",
       "      <th>N3SIG5</th>\n",
       "      <th>N3SIG5SHIFT</th>\n",
       "      <th>NN_DIST_RENORM</th>\n",
       "      <th>NUMNEGRN</th>\n",
       "      <th>SCALE</th>\n",
       "      <th>SNR</th>\n",
       "      <th>SPREADERR_MODEL</th>\n",
       "      <th>SPREAD_MODEL</th>\n",
       "    </tr>\n",
       "  </thead>\n",
       "  <tbody>\n",
       "    <tr>\n",
       "      <th>754094</th>\n",
       "      <td>6961317</td>\n",
       "      <td>0</td>\n",
       "      <td>0.906008</td>\n",
       "      <td>2.313</td>\n",
       "      <td>NaN</td>\n",
       "      <td>g</td>\n",
       "      <td>2.104</td>\n",
       "      <td>NaN</td>\n",
       "      <td>36</td>\n",
       "      <td>0.059354</td>\n",
       "      <td>...</td>\n",
       "      <td>0</td>\n",
       "      <td>16</td>\n",
       "      <td>0</td>\n",
       "      <td>16</td>\n",
       "      <td>NaN</td>\n",
       "      <td>6</td>\n",
       "      <td>2.521609</td>\n",
       "      <td>23.238455</td>\n",
       "      <td>0.001237</td>\n",
       "      <td>-0.000847</td>\n",
       "    </tr>\n",
       "  </tbody>\n",
       "</table>\n",
       "<p>1 rows × 40 columns</p>\n",
       "</div>"
      ],
      "text/plain": [
       "             ID  OBJECT_TYPE       AMP  A_IMAGE  A_REF BAND  B_IMAGE  B_REF  \\\n",
       "754094  6961317            0  0.906008    2.313    NaN    g    2.104    NaN   \n",
       "\n",
       "        CCDID   COLMEDS  ...  N3SIG3  N3SIG3SHIFT  N3SIG5  N3SIG5SHIFT  \\\n",
       "754094     36  0.059354  ...       0           16       0           16   \n",
       "\n",
       "        NN_DIST_RENORM  NUMNEGRN     SCALE        SNR  SPREADERR_MODEL  \\\n",
       "754094             NaN         6  2.521609  23.238455         0.001237   \n",
       "\n",
       "        SPREAD_MODEL  \n",
       "754094     -0.000847  \n",
       "\n",
       "[1 rows x 40 columns]"
      ]
     },
     "execution_count": 6,
     "metadata": {},
     "output_type": "execute_result"
    }
   ],
   "source": [
    "ffpath = os.path.join(configs[\"dpath\"], \"autoscan_features.3.feather\")\n",
    "new_labels = pd.read_feather(ffpath)\n",
    "new_labels[new_labels['ID']==6961317]"
   ]
  },
  {
   "cell_type": "code",
   "execution_count": 15,
   "metadata": {},
   "outputs": [
    {
     "data": {
      "text/html": [
       "<div>\n",
       "<style scoped>\n",
       "    .dataframe tbody tr th:only-of-type {\n",
       "        vertical-align: middle;\n",
       "    }\n",
       "\n",
       "    .dataframe tbody tr th {\n",
       "        vertical-align: top;\n",
       "    }\n",
       "\n",
       "    .dataframe thead th {\n",
       "        text-align: right;\n",
       "    }\n",
       "</style>\n",
       "<table border=\"1\" class=\"dataframe\">\n",
       "  <thead>\n",
       "    <tr style=\"text-align: right;\">\n",
       "      <th></th>\n",
       "      <th>ID</th>\n",
       "      <th>OBJECT_TYPE</th>\n",
       "      <th>AMP</th>\n",
       "      <th>A_IMAGE</th>\n",
       "      <th>A_REF</th>\n",
       "      <th>BAND</th>\n",
       "      <th>B_IMAGE</th>\n",
       "      <th>B_REF</th>\n",
       "      <th>CCDID</th>\n",
       "      <th>COLMEDS</th>\n",
       "      <th>...</th>\n",
       "      <th>N3SIG3</th>\n",
       "      <th>N3SIG3SHIFT</th>\n",
       "      <th>N3SIG5</th>\n",
       "      <th>N3SIG5SHIFT</th>\n",
       "      <th>NN_DIST_RENORM</th>\n",
       "      <th>NUMNEGRN</th>\n",
       "      <th>SCALE</th>\n",
       "      <th>SNR</th>\n",
       "      <th>SPREADERR_MODEL</th>\n",
       "      <th>SPREAD_MODEL</th>\n",
       "    </tr>\n",
       "  </thead>\n",
       "  <tbody>\n",
       "    <tr>\n",
       "      <th>770766</th>\n",
       "      <td>11865164</td>\n",
       "      <td>0</td>\n",
       "      <td>0.875889</td>\n",
       "      <td>1.218</td>\n",
       "      <td>2.652055</td>\n",
       "      <td>z</td>\n",
       "      <td>0.872</td>\n",
       "      <td>2.250055</td>\n",
       "      <td>56</td>\n",
       "      <td>0.102778</td>\n",
       "      <td>...</td>\n",
       "      <td>0</td>\n",
       "      <td>-9</td>\n",
       "      <td>0</td>\n",
       "      <td>-16</td>\n",
       "      <td>1.094252</td>\n",
       "      <td>21</td>\n",
       "      <td>1.501628</td>\n",
       "      <td>6.918598</td>\n",
       "      <td>0.005245</td>\n",
       "      <td>-0.004344</td>\n",
       "    </tr>\n",
       "  </tbody>\n",
       "</table>\n",
       "<p>1 rows × 40 columns</p>\n",
       "</div>"
      ],
      "text/plain": [
       "              ID  OBJECT_TYPE       AMP  A_IMAGE     A_REF BAND  B_IMAGE  \\\n",
       "770766  11865164            0  0.875889    1.218  2.652055    z    0.872   \n",
       "\n",
       "           B_REF  CCDID   COLMEDS  ...  N3SIG3  N3SIG3SHIFT  N3SIG5  \\\n",
       "770766  2.250055     56  0.102778  ...       0           -9       0   \n",
       "\n",
       "        N3SIG5SHIFT  NN_DIST_RENORM  NUMNEGRN     SCALE       SNR  \\\n",
       "770766          -16        1.094252        21  1.501628  6.918598   \n",
       "\n",
       "        SPREADERR_MODEL  SPREAD_MODEL  \n",
       "770766         0.005245     -0.004344  \n",
       "\n",
       "[1 rows x 40 columns]"
      ]
     },
     "execution_count": 15,
     "metadata": {},
     "output_type": "execute_result"
    }
   ],
   "source": [
    "new_labels[new_labels['ID']==11865164]"
   ]
  },
  {
   "cell_type": "code",
   "execution_count": 9,
   "metadata": {},
   "outputs": [
    {
     "data": {
      "text/plain": [
       "(array([0, 1]), array([454092, 444871]))"
      ]
     },
     "execution_count": 9,
     "metadata": {},
     "output_type": "execute_result"
    }
   ],
   "source": [
    "counts_type = np.unique(new_labels['OBJECT_TYPE'], return_counts=True)\n",
    "counts_type"
   ]
  },
  {
   "cell_type": "code",
   "execution_count": null,
   "metadata": {},
   "outputs": [],
   "source": []
  }
 ],
 "metadata": {
  "kernelspec": {
   "display_name": "tff-TAC",
   "language": "python",
   "name": "tff-tac"
  },
  "language_info": {
   "codemirror_mode": {
    "name": "ipython",
    "version": 3
   },
   "file_extension": ".py",
   "mimetype": "text/x-python",
   "name": "python",
   "nbconvert_exporter": "python",
   "pygments_lexer": "ipython3",
   "version": "3.7.10"
  }
 },
 "nbformat": 4,
 "nbformat_minor": 4
}
