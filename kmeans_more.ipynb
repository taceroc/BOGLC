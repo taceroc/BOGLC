{
 "cells": [
  {
   "cell_type": "code",
   "execution_count": 1,
   "metadata": {},
   "outputs": [],
   "source": [
    "# -- imports\n",
    "%matplotlib inline\n",
    "import numpy as np\n",
    "import os\n",
    "import pandas as pd\n",
    "from config import *\n",
    "import glob\n",
    "from astropy.io import fits\n",
    "import matplotlib.pyplot as plt\n",
    "import tensorflow as tf\n",
    "from tensorflow import keras"
   ]
  },
  {
   "cell_type": "code",
   "execution_count": 2,
   "metadata": {},
   "outputs": [
    {
     "data": {
      "text/html": [
       "<div>\n",
       "<style scoped>\n",
       "    .dataframe tbody tr th:only-of-type {\n",
       "        vertical-align: middle;\n",
       "    }\n",
       "\n",
       "    .dataframe tbody tr th {\n",
       "        vertical-align: top;\n",
       "    }\n",
       "\n",
       "    .dataframe thead th {\n",
       "        text-align: right;\n",
       "    }\n",
       "</style>\n",
       "<table border=\"1\" class=\"dataframe\">\n",
       "  <thead>\n",
       "    <tr style=\"text-align: right;\">\n",
       "      <th></th>\n",
       "      <th>ID</th>\n",
       "      <th>OBJECT_TYPE</th>\n",
       "    </tr>\n",
       "  </thead>\n",
       "  <tbody>\n",
       "    <tr>\n",
       "      <th>0</th>\n",
       "      <td>7035645</td>\n",
       "      <td>0</td>\n",
       "    </tr>\n",
       "    <tr>\n",
       "      <th>1</th>\n",
       "      <td>7002844</td>\n",
       "      <td>0</td>\n",
       "    </tr>\n",
       "    <tr>\n",
       "      <th>2</th>\n",
       "      <td>7056920</td>\n",
       "      <td>0</td>\n",
       "    </tr>\n",
       "    <tr>\n",
       "      <th>3</th>\n",
       "      <td>7002913</td>\n",
       "      <td>0</td>\n",
       "    </tr>\n",
       "    <tr>\n",
       "      <th>4</th>\n",
       "      <td>7056212</td>\n",
       "      <td>0</td>\n",
       "    </tr>\n",
       "    <tr>\n",
       "      <th>...</th>\n",
       "      <td>...</td>\n",
       "      <td>...</td>\n",
       "    </tr>\n",
       "    <tr>\n",
       "      <th>2682</th>\n",
       "      <td>7035311</td>\n",
       "      <td>1</td>\n",
       "    </tr>\n",
       "    <tr>\n",
       "      <th>2683</th>\n",
       "      <td>7035318</td>\n",
       "      <td>1</td>\n",
       "    </tr>\n",
       "    <tr>\n",
       "      <th>2684</th>\n",
       "      <td>7035682</td>\n",
       "      <td>1</td>\n",
       "    </tr>\n",
       "    <tr>\n",
       "      <th>2685</th>\n",
       "      <td>7035155</td>\n",
       "      <td>1</td>\n",
       "    </tr>\n",
       "    <tr>\n",
       "      <th>2686</th>\n",
       "      <td>7771834</td>\n",
       "      <td>1</td>\n",
       "    </tr>\n",
       "  </tbody>\n",
       "</table>\n",
       "<p>2687 rows × 2 columns</p>\n",
       "</div>"
      ],
      "text/plain": [
       "           ID  OBJECT_TYPE\n",
       "0     7035645            0\n",
       "1     7002844            0\n",
       "2     7056920            0\n",
       "3     7002913            0\n",
       "4     7056212            0\n",
       "...       ...          ...\n",
       "2682  7035311            1\n",
       "2683  7035318            1\n",
       "2684  7035682            1\n",
       "2685  7035155            1\n",
       "2686  7771834            1\n",
       "\n",
       "[2687 rows x 2 columns]"
      ]
     },
     "execution_count": 2,
     "metadata": {},
     "output_type": "execute_result"
    }
   ],
   "source": [
    "#upload the file with labels 0 or 1.\n",
    "#this file is only for the data that I have on my computer. stamps0 (aunque diga stamps1)\n",
    "ffpath = os.path.join(configs[\"dpath\"], \"autoscan_features.stamps1exp.feather\") #this .feather file contain only the ID and OBJECT_TYPE for the images that I have on my computer\n",
    "new_labels = pd.read_feather(ffpath)\n",
    "\n",
    "# dropping ALL duplicte values \n",
    "new_labels.drop_duplicates(inplace=True) \n",
    "#sort by label, first 0 and then 1\n",
    "new_labels = new_labels.sort_values(by=['OBJECT_TYPE'])\n",
    "#reset the index\n",
    "new_labels = new_labels.reset_index(drop = True)\n",
    "  \n",
    "# displaying data \n",
    "new_labels"
   ]
  },
  {
   "cell_type": "code",
   "execution_count": 3,
   "metadata": {},
   "outputs": [
    {
     "name": "stdout",
     "output_type": "stream",
     "text": [
      "0 = 790 and 1 = 1897\n"
     ]
    }
   ],
   "source": [
    "#counts for 0 type and 1 type\n",
    "counts_type = np.unique(new_labels['OBJECT_TYPE'], return_counts=True)\n",
    "print(\"0 = {} and 1 = {}\".format(counts_type[1][0], counts_type[1][1]))"
   ]
  },
  {
   "cell_type": "code",
   "execution_count": 4,
   "metadata": {},
   "outputs": [],
   "source": [
    "#just 0 type\n",
    "#ID_0 = np.sort(new_labels.query('OBJECT_TYPE==0')['ID'].to_numpy())\n",
    "#len(ID_0)\n",
    "\n",
    "#1 is BOGUSS!!\n",
    "new_labels1 = new_labels.query(\"OBJECT_TYPE==1\")\n",
    "#new_labels0.sort_index()\n",
    "ID_1 = new_labels1.sort_values(by=['ID']).reset_index(drop = True)"
   ]
  },
  {
   "cell_type": "code",
   "execution_count": 5,
   "metadata": {},
   "outputs": [
    {
     "data": {
      "text/html": [
       "<div>\n",
       "<style scoped>\n",
       "    .dataframe tbody tr th:only-of-type {\n",
       "        vertical-align: middle;\n",
       "    }\n",
       "\n",
       "    .dataframe tbody tr th {\n",
       "        vertical-align: top;\n",
       "    }\n",
       "\n",
       "    .dataframe thead th {\n",
       "        text-align: right;\n",
       "    }\n",
       "</style>\n",
       "<table border=\"1\" class=\"dataframe\">\n",
       "  <thead>\n",
       "    <tr style=\"text-align: right;\">\n",
       "      <th></th>\n",
       "      <th>ID</th>\n",
       "      <th>OBJECT_TYPE</th>\n",
       "    </tr>\n",
       "  </thead>\n",
       "  <tbody>\n",
       "    <tr>\n",
       "      <th>0</th>\n",
       "      <td>6960252</td>\n",
       "      <td>1</td>\n",
       "    </tr>\n",
       "    <tr>\n",
       "      <th>1</th>\n",
       "      <td>6961062</td>\n",
       "      <td>1</td>\n",
       "    </tr>\n",
       "    <tr>\n",
       "      <th>2</th>\n",
       "      <td>6961064</td>\n",
       "      <td>1</td>\n",
       "    </tr>\n",
       "    <tr>\n",
       "      <th>3</th>\n",
       "      <td>6961300</td>\n",
       "      <td>1</td>\n",
       "    </tr>\n",
       "    <tr>\n",
       "      <th>4</th>\n",
       "      <td>6961332</td>\n",
       "      <td>1</td>\n",
       "    </tr>\n",
       "    <tr>\n",
       "      <th>...</th>\n",
       "      <td>...</td>\n",
       "      <td>...</td>\n",
       "    </tr>\n",
       "    <tr>\n",
       "      <th>1892</th>\n",
       "      <td>7778287</td>\n",
       "      <td>1</td>\n",
       "    </tr>\n",
       "    <tr>\n",
       "      <th>1893</th>\n",
       "      <td>7778592</td>\n",
       "      <td>1</td>\n",
       "    </tr>\n",
       "    <tr>\n",
       "      <th>1894</th>\n",
       "      <td>7778883</td>\n",
       "      <td>1</td>\n",
       "    </tr>\n",
       "    <tr>\n",
       "      <th>1895</th>\n",
       "      <td>7779002</td>\n",
       "      <td>1</td>\n",
       "    </tr>\n",
       "    <tr>\n",
       "      <th>1896</th>\n",
       "      <td>7779022</td>\n",
       "      <td>1</td>\n",
       "    </tr>\n",
       "  </tbody>\n",
       "</table>\n",
       "<p>1897 rows × 2 columns</p>\n",
       "</div>"
      ],
      "text/plain": [
       "           ID  OBJECT_TYPE\n",
       "0     6960252            1\n",
       "1     6961062            1\n",
       "2     6961064            1\n",
       "3     6961300            1\n",
       "4     6961332            1\n",
       "...       ...          ...\n",
       "1892  7778287            1\n",
       "1893  7778592            1\n",
       "1894  7778883            1\n",
       "1895  7779002            1\n",
       "1896  7779022            1\n",
       "\n",
       "[1897 rows x 2 columns]"
      ]
     },
     "execution_count": 5,
     "metadata": {},
     "output_type": "execute_result"
    }
   ],
   "source": [
    "ID_1"
   ]
  },
  {
   "cell_type": "code",
   "execution_count": 6,
   "metadata": {},
   "outputs": [
    {
     "data": {
      "text/plain": [
       "6964012"
      ]
     },
     "execution_count": 6,
     "metadata": {},
     "output_type": "execute_result"
    }
   ],
   "source": [
    "ID_1.iloc[65]['ID']"
   ]
  },
  {
   "cell_type": "code",
   "execution_count": 7,
   "metadata": {},
   "outputs": [],
   "source": [
    "#Create path for diff, srch, temp images\n",
    "pttype = '*'\n",
    "\n",
    "srch1 = os.path.join(configs[\"dpath\"],'Stamps1','20130829', '*',pttype + '*.fits') #general path of the images \n",
    "srch2 = os.path.join(configs[\"dpath\"],'Stamps1','20130831', '*',pttype + '*.fits')\n",
    "srch3 = os.path.join(configs[\"dpath\"],'Stamps1','20130901', '*',pttype + '*.fits')\n",
    "flist1  = np.array(sorted(glob.glob(srch1))) #recorre el path por *, recorre temp, srch y diff y el *.fits por el numero de la imagen\n",
    "flist2  = np.array(sorted(glob.glob(srch2)))\n",
    "flist3  = np.array(sorted(glob.glob(srch3)))\n",
    "flist = np.concatenate((flist1,flist2,flist3))"
   ]
  },
  {
   "cell_type": "code",
   "execution_count": 8,
   "metadata": {},
   "outputs": [
    {
     "data": {
      "text/plain": [
       "array(['/Users/tatianaacerocuellar/Documents/Delaware/Data/Stamps1/20130829/470430504/diff6962491.fits',\n",
       "       '/Users/tatianaacerocuellar/Documents/Delaware/Data/Stamps1/20130829/470430504/srch6962491.fits',\n",
       "       '/Users/tatianaacerocuellar/Documents/Delaware/Data/Stamps1/20130829/470430504/temp6962491.fits',\n",
       "       ...,\n",
       "       '/Users/tatianaacerocuellar/Documents/Delaware/Data/Stamps1/20130901/472357109/temp7771805.fits',\n",
       "       '/Users/tatianaacerocuellar/Documents/Delaware/Data/Stamps1/20130901/472357109/temp7771807.fits',\n",
       "       '/Users/tatianaacerocuellar/Documents/Delaware/Data/Stamps1/20130901/472357109/temp7771834.fits'],\n",
       "      dtype='<U94')"
      ]
     },
     "execution_count": 8,
     "metadata": {},
     "output_type": "execute_result"
    }
   ],
   "source": [
    "flist"
   ]
  },
  {
   "cell_type": "code",
   "execution_count": 9,
   "metadata": {},
   "outputs": [
    {
     "name": "stdout",
     "output_type": "stream",
     "text": [
      "5691\n"
     ]
    }
   ],
   "source": [
    "# path for the images that I want, the 0 type\n",
    "imlist_dict = {}\n",
    "\n",
    "# stores the name of the images as a list for ID_0 above\n",
    "imlist_dict['flist_bogcl'] = [f for f in flist if int(f.split('/')[-1][4:-5]) in ID_1['ID'].to_numpy()]\n",
    "print (len(imlist_dict['flist_bogcl']))\n",
    "\n",
    "\n",
    "#N = imlist_dict[\"nimgs\"] = int(imlist_dict[\"fnumbers\"].shape[0]) \n",
    "\n",
    "#shape of the images\n",
    "imlist_dict[\"imshp\"] = fits.open((imlist_dict[\"flist_bogcl\"][0]))[0].data.shape #shape row,col\n",
    "extension=\"fits\"\n",
    "imdtype = {\"fits\":float, \"gif\":np.uint8, }"
   ]
  },
  {
   "cell_type": "code",
   "execution_count": 10,
   "metadata": {},
   "outputs": [
    {
     "data": {
      "text/plain": [
       "['/Users/tatianaacerocuellar/Documents/Delaware/Data/Stamps1/20130829/470681007/diff6960252.fits',\n",
       " '/Users/tatianaacerocuellar/Documents/Delaware/Data/Stamps1/20130829/470681007/srch6960252.fits',\n",
       " '/Users/tatianaacerocuellar/Documents/Delaware/Data/Stamps1/20130829/470681007/temp6960252.fits',\n",
       " '/Users/tatianaacerocuellar/Documents/Delaware/Data/Stamps1/20130829/470681006/diff6961062.fits',\n",
       " '/Users/tatianaacerocuellar/Documents/Delaware/Data/Stamps1/20130829/470681006/srch6961062.fits',\n",
       " '/Users/tatianaacerocuellar/Documents/Delaware/Data/Stamps1/20130829/470681006/temp6961062.fits',\n",
       " '/Users/tatianaacerocuellar/Documents/Delaware/Data/Stamps1/20130829/470681006/diff6961064.fits',\n",
       " '/Users/tatianaacerocuellar/Documents/Delaware/Data/Stamps1/20130829/470681006/srch6961064.fits',\n",
       " '/Users/tatianaacerocuellar/Documents/Delaware/Data/Stamps1/20130829/470681006/temp6961064.fits']"
      ]
     },
     "execution_count": 10,
     "metadata": {},
     "output_type": "execute_result"
    }
   ],
   "source": [
    "imlist_dict[\"flist_bogcl\"] = sorted(imlist_dict[\"flist_bogcl\"], key=lambda s: s.split('/')[-1][:4])\n",
    "imlist_dict[\"flist_bogcl\"]= sorted(imlist_dict[\"flist_bogcl\"], key=lambda s: s.split('/')[-1][4:])\n",
    "imlist_dict[\"flist_bogcl\"][:9]"
   ]
  },
  {
   "cell_type": "code",
   "execution_count": 11,
   "metadata": {},
   "outputs": [],
   "source": [
    "#container for bogcl data\n",
    "boglc = np.zeros((len(imlist_dict[\"flist_bogcl\"]),imlist_dict[\"imshp\"][0], imlist_dict[\"imshp\"][1]),imdtype[extension])\n",
    "\n",
    "\n",
    "#fill the container and open images\n",
    "for i in range(len(imlist_dict[\"flist_bogcl\"])):\n",
    "    boglc[i] = fits.open(''.join(imlist_dict[\"flist_bogcl\"][i]))[0].data"
   ]
  },
  {
   "cell_type": "code",
   "execution_count": 12,
   "metadata": {},
   "outputs": [],
   "source": [
    "#convert float for normalize\n",
    "boglc_norm = boglc.astype(float)\n",
    "\n",
    "# --normalize\n",
    "# mean and std for diff images\n",
    "# min and max for srch and temp\n",
    "\n",
    "#bogcl\n",
    "boglc_norm[::3] = (boglc_norm[::3]- boglc_norm[::3].mean(axis=(1,2), keepdims=True))/boglc_norm[::3].std(axis=(1,2), keepdims=True) #diff\n",
    "    \n",
    "boglc_norm[1::3]= (boglc_norm[1::3]-boglc_norm[1::3].min(axis=(1,2), keepdims=True))/boglc_norm[1::3].max(axis=(1,2), keepdims=True) #srch\n",
    "boglc_norm[2::3]= (boglc_norm[2::3]-boglc_norm[2::3].min(axis=(1,2), keepdims=True))/boglc_norm[2::3].max(axis=(1,2), keepdims=True) #temp\n"
   ]
  },
  {
   "cell_type": "code",
   "execution_count": 13,
   "metadata": {},
   "outputs": [
    {
     "data": {
      "text/plain": [
       "(5691, 51, 51)"
      ]
     },
     "execution_count": 13,
     "metadata": {},
     "output_type": "execute_result"
    }
   ],
   "source": [
    "boglc_norm.shape"
   ]
  },
  {
   "cell_type": "code",
   "execution_count": 14,
   "metadata": {},
   "outputs": [
    {
     "name": "stdout",
     "output_type": "stream",
     "text": [
      "Final lenght of bogcl = (1897, 51, 153)\n"
     ]
    }
   ],
   "source": [
    "#concatenate diff srch temp for the same ID\n",
    "\n",
    "#bogcl\n",
    "final_bogcl = np.zeros((int(len(boglc)//3),imlist_dict[\"imshp\"][0], imlist_dict[\"imshp\"][1]*3))\n",
    "final_bogcl = np.concatenate((boglc_norm[::3],boglc_norm[1::3],boglc_norm[2::3]), axis = 2)\n",
    "#final_bogcl  = final_bogcl.transpose(0,2,1)\n",
    "nonorm_bogcl = np.concatenate((boglc[::3],boglc[1::3],boglc[2::3]), axis = 2)\n",
    "\n",
    "print('Final lenght of bogcl = {}'.format(final_bogcl.shape))    "
   ]
  },
  {
   "cell_type": "code",
   "execution_count": 15,
   "metadata": {},
   "outputs": [
    {
     "data": {
      "text/plain": [
       "<matplotlib.image.AxesImage at 0x64c506150>"
      ]
     },
     "execution_count": 15,
     "metadata": {},
     "output_type": "execute_result"
    },
    {
     "data": {
      "image/png": "[encoded data removed]",
      "text/plain": [
       "<Figure size 432x288 with 1 Axes>"
      ]
     },
     "metadata": {
      "needs_background": "light"
     },
     "output_type": "display_data"
    }
   ],
   "source": [
    "plt.imshow(final_bogcl[4])"
   ]
  },
  {
   "cell_type": "code",
   "execution_count": 16,
   "metadata": {},
   "outputs": [
    {
     "data": {
      "text/plain": [
       "<matplotlib.image.AxesImage at 0x64c529d10>"
      ]
     },
     "execution_count": 16,
     "metadata": {},
     "output_type": "execute_result"
    },
    {
     "data": {
      "image/png": "[encoded data removed]",
      "text/plain": [
       "<Figure size 432x288 with 1 Axes>"
      ]
     },
     "metadata": {
      "needs_background": "light"
     },
     "output_type": "display_data"
    }
   ],
   "source": [
    "plt.imshow(np.hstack((boglc_norm[4*3],boglc_norm[(4*3)+1],boglc_norm[(4*3)+2])))"
   ]
  },
  {
   "cell_type": "code",
   "execution_count": 17,
   "metadata": {},
   "outputs": [],
   "source": [
    "np.random.seed(1)\n",
    "tf.random.set_seed(3425)\n",
    "\n",
    "# -- define the network\n",
    "layer1 = keras.layers.Conv2D(16, kernel_size=(5, 5), padding=\"valid\", activation=\"relu\", input_shape=(51, 153, 1))\n",
    "layer2 = keras.layers.MaxPooling2D((2, 2), strides=2)\n",
    "layer3 = keras.layers.Conv2D(32, kernel_size=(5, 5), padding=\"valid\", activation=\"relu\", input_shape=(51, 153, 1))\n",
    "layer4 = keras.layers.MaxPooling2D((2, 2), strides=2)\n",
    "layer5 = keras.layers.Flatten()\n",
    "layer6 = keras.layers.Dense(32, activation=\"relu\")\n",
    "#layer7 = keras.layers.Dropout(0.6)\n",
    "layer7 = keras.layers.Dense(2, activation=\"softmax\")\n",
    "layers = [layer1, layer2, layer3, layer4, layer5, layer6, layer7]\n",
    "\n",
    "# -- instantiate the convolutional neural network\n",
    "model = keras.Sequential(layers)\n",
    "\n",
    "opt = keras.optimizers.SGD(learning_rate=0.01)\n",
    "model.compile(optimizer=opt, loss=\"sparse_categorical_crossentropy\", metrics=[\"accuracy\"])\n",
    "\n",
    "# -- feautres need to have an extra axis on the end (for mini-batching)\n",
    "bogcl2 = final_bogcl.reshape(int(len(boglc)//3), 51, 153, 1)"
   ]
  },
  {
   "cell_type": "code",
   "execution_count": 18,
   "metadata": {},
   "outputs": [
    {
     "name": "stdout",
     "output_type": "stream",
     "text": [
      "Model: \"sequential\"\n",
      "_________________________________________________________________\n",
      "Layer (type)                 Output Shape              Param #   \n",
      "=================================================================\n",
      "conv2d (Conv2D)              (None, 47, 149, 16)       416       \n",
      "_________________________________________________________________\n",
      "max_pooling2d (MaxPooling2D) (None, 23, 74, 16)        0         \n",
      "_________________________________________________________________\n",
      "conv2d_1 (Conv2D)            (None, 19, 70, 32)        12832     \n",
      "_________________________________________________________________\n",
      "max_pooling2d_1 (MaxPooling2 (None, 9, 35, 32)         0         \n",
      "_________________________________________________________________\n",
      "flatten (Flatten)            (None, 10080)             0         \n",
      "_________________________________________________________________\n",
      "dense (Dense)                (None, 32)                322592    \n",
      "_________________________________________________________________\n",
      "dense_1 (Dense)              (None, 2)                 66        \n",
      "=================================================================\n",
      "Total params: 335,906\n",
      "Trainable params: 335,906\n",
      "Non-trainable params: 0\n",
      "_________________________________________________________________\n"
     ]
    }
   ],
   "source": [
    "model.summary()"
   ]
  },
  {
   "cell_type": "code",
   "execution_count": null,
   "metadata": {},
   "outputs": [],
   "source": [
    "# extract the hidden layer for layer6 = Dense(32)\n",
    "get_6rd_layer_output = tf.keras.backend.function([model.layers[0].input],\n",
    "                                  [model.layers[5].output])\n",
    "#input = 0 type\n",
    "layer_output = get_6rd_layer_output([bogcl2])"
   ]
  },
  {
   "cell_type": "code",
   "execution_count": null,
   "metadata": {},
   "outputs": [],
   "source": [
    "#what is the shape: each image has 32 \"features\"\n",
    "layer_output[0].shape"
   ]
  },
  {
   "cell_type": "code",
   "execution_count": null,
   "metadata": {},
   "outputs": [],
   "source": [
    "layer_output[0].mean()"
   ]
  },
  {
   "cell_type": "code",
   "execution_count": null,
   "metadata": {},
   "outputs": [],
   "source": [
    "layer_output[0].max()"
   ]
  },
  {
   "cell_type": "code",
   "execution_count": null,
   "metadata": {},
   "outputs": [],
   "source": [
    "layer_output[0].min()"
   ]
  },
  {
   "cell_type": "code",
   "execution_count": null,
   "metadata": {},
   "outputs": [],
   "source": [
    "#plot the first vs second features (just curious)\n",
    "plt.scatter(layer_output[0][:,1],layer_output[0][:,31], label = \"the point is each one of the 1897 images\")\n",
    "plt.xlabel(\"1st/32 features\")\n",
    "plt.ylabel(\"31nd/32 features\")\n",
    "plt.legend()"
   ]
  },
  {
   "cell_type": "markdown",
   "metadata": {},
   "source": [
    "# KMeans for n_cluster = [2,3,4,5,6]"
   ]
  },
  {
   "cell_type": "code",
   "execution_count": null,
   "metadata": {},
   "outputs": [],
   "source": [
    "from sklearn.cluster import KMeans"
   ]
  },
  {
   "cell_type": "code",
   "execution_count": null,
   "metadata": {},
   "outputs": [],
   "source": [
    "#Elbow method to determine the best number of cluster: the one with smallest distance\n",
    "sse = {}\n",
    "for k in range(1, 10):\n",
    "    kmeans = KMeans(n_clusters=k,random_state=3425).fit(layer_output[0])\n",
    "    sse[k] = kmeans.inertia_ # Inertia: Sum of distances of samples to their closest cluster center\n",
    "plt.figure()\n",
    "plt.plot(list(sse.keys()), list(sse.values()))\n",
    "plt.xlabel(\"Number of cluster\")\n",
    "plt.ylabel(\"SSE\")\n",
    "plt.show()\n",
    "#it looks like is n_clusters = 5"
   ]
  },
  {
   "cell_type": "code",
   "execution_count": null,
   "metadata": {},
   "outputs": [],
   "source": [
    "#implements Kmeans from the library sklearn.As the name, it cluster the data in the n_clusters\n",
    "#that I define\n",
    "cluster_map = pd.DataFrame()\n",
    "for i in [2,3,4,5,6]:\n",
    "    kmeans = KMeans(n_clusters=i,init='k-means++',random_state=3425).fit(layer_output[0])\n",
    "    #kmeans = KMeans(n_clusters=i,init='k-means++',random_state=8989).fit(layer_output[0])\n",
    "    #kmeans = KMeans(n_clusters=i,init='random',random_state=8989).fit(layer_output[0])\n",
    "    #extract the label (0-4) of the cluster and the index \n",
    "    \n",
    "    cluster_map['cluster%d'%i] = kmeans.labels_\n",
    "    \n",
    "    \n",
    "    plt.figure()\n",
    "    plt.title(\"N.Clusters %d: %s \"%(i, list(cluster_map['cluster%d'%i].value_counts())))\n",
    "    plt.hist(kmeans.labels_, bins=i)\n",
    "    plt.text"
   ]
  },
  {
   "cell_type": "code",
   "execution_count": null,
   "metadata": {},
   "outputs": [],
   "source": [
    "#k++ random-state = 34\n",
    "for i in [2,3,4,5,6]:\n",
    "    print(list(cluster_map['cluster%d'%i].value_counts()))"
   ]
  },
  {
   "cell_type": "code",
   "execution_count": null,
   "metadata": {},
   "outputs": [],
   "source": [
    "#random-state: 8989\n",
    "for i in [2,3,4,5,6]:\n",
    "    print(list(cluster_map['cluster%d'%i].value_counts()))"
   ]
  },
  {
   "cell_type": "code",
   "execution_count": null,
   "metadata": {},
   "outputs": [],
   "source": [
    "#random and random-state: 8989\n",
    "for i in [2,3,4,5,6]:\n",
    "    print(list(cluster_map['cluster%d'%i].value_counts()))"
   ]
  },
  {
   "cell_type": "code",
   "execution_count": null,
   "metadata": {},
   "outputs": [],
   "source": [
    "cluster_map"
   ]
  },
  {
   "cell_type": "markdown",
   "metadata": {},
   "source": [
    "# Plot mean hist for each cluster"
   ]
  },
  {
   "cell_type": "code",
   "execution_count": null,
   "metadata": {
    "scrolled": true
   },
   "outputs": [],
   "source": [
    "#plot mean cluster = 2\n",
    "index = {}\n",
    "for k in range(2):\n",
    "    plt.figure()\n",
    "    index[k] = [j for j in cluster_map.index if cluster_map.loc[j]['cluster2'] == k]\n",
    "    plt.hist(np.array(layer_output[0][index[k]]).mean(axis = 1))"
   ]
  },
  {
   "cell_type": "code",
   "execution_count": null,
   "metadata": {
    "scrolled": true
   },
   "outputs": [],
   "source": [
    "#plot mean cluster = 3\n",
    "index = {}\n",
    "for k in range(3):\n",
    "    plt.figure()\n",
    "    index[k] = [j for j in cluster_map.index if cluster_map.loc[j]['cluster3'] == k]\n",
    "    plt.hist(np.array(layer_output[0][index[k]]).mean(axis = 1))"
   ]
  },
  {
   "cell_type": "code",
   "execution_count": null,
   "metadata": {
    "scrolled": true
   },
   "outputs": [],
   "source": [
    "#plot mean cluster = 4\n",
    "index = {}\n",
    "for k in range(4):\n",
    "    plt.figure()\n",
    "    index[k] = [j for j in cluster_map.index if cluster_map.loc[j]['cluster4'] == k]\n",
    "    plt.hist(np.array(layer_output[0][index[k]]).mean(axis = 1))"
   ]
  },
  {
   "cell_type": "code",
   "execution_count": null,
   "metadata": {
    "scrolled": true
   },
   "outputs": [],
   "source": [
    "#plot mean cluster = 5\n",
    "index = {}\n",
    "for k in range(5):\n",
    "    plt.figure()\n",
    "    index[k] = [j for j in cluster_map.index if cluster_map.loc[j]['cluster5'] == k]\n",
    "    plt.hist(np.array(layer_output[0][index[k]]).mean(axis = 1))"
   ]
  },
  {
   "cell_type": "code",
   "execution_count": null,
   "metadata": {
    "scrolled": true
   },
   "outputs": [],
   "source": [
    "#plot mean cluster = 6\n",
    "index = {}\n",
    "for k in range(6):\n",
    "    plt.figure()\n",
    "    index[k] = [j for j in cluster_map.index if cluster_map.loc[j]['cluster6'] == k]\n",
    "    plt.hist(np.array(layer_output[0][index[k]]).mean(axis = 1))"
   ]
  },
  {
   "cell_type": "markdown",
   "metadata": {},
   "source": [
    "# TSNE with perplexity = 8 and 50"
   ]
  },
  {
   "cell_type": "code",
   "execution_count": null,
   "metadata": {},
   "outputs": [],
   "source": [
    "from sklearn.manifold import TSNE"
   ]
  },
  {
   "cell_type": "code",
   "execution_count": null,
   "metadata": {},
   "outputs": [],
   "source": [
    "#tsne_8 = TSNE(n_components = 2, perplexity = 8,early_exaggeration = 5, learning_rate = 500,n_iter = 2000,random_state=3425).fit_transform(layer_output[0])\n",
    "#tsne_50 = TSNE(n_components = 2, perplexity = 50,early_exaggeration = 5, learning_rate = 500,n_iter = 2000,random_state=3425).fit_transform(layer_output[0])\n",
    "tsne_8 = TSNE(n_components = 2, perplexity = 8,early_exaggeration = 35,learning_rate = 800,n_iter = 3000,random_state=3425).fit_transform(layer_output[0])\n",
    "tsne_50 = TSNE(n_components = 2, perplexity = 50,early_exaggeration = 35,learning_rate = 800,n_iter = 3000,random_state=3425).fit_transform(layer_output[0])"
   ]
  },
  {
   "cell_type": "code",
   "execution_count": null,
   "metadata": {
    "scrolled": true
   },
   "outputs": [],
   "source": [
    "fig, ax = plt.subplots(1,2, figsize = (10,5))\n",
    "ax[0].scatter(tsne_8[:,0], tsne_8[:,1], c = cluster_map['cluster2'], label = cluster_map['cluster2'].value_counts())\n",
    "ax[0].set_title(\"tsne_8 \\n %s\" %cluster_map['cluster2'].value_counts())\n",
    "\n",
    "\n",
    "#ax[1].scatter(tsne_50[:,0], tsne_50[:,1], c = cluster_map['cluster2'])\n",
    "ass = ax[1].scatter(tsne_50[:,0], tsne_50[:,1], clim=[-0.5, 2 - 0.5], c = cluster_map['cluster2'])\n",
    "ax[1].set_title(\"tsne_50\")\n",
    "\n",
    "#fig.colorbar(ax[1].scatter(tsne_50[:,0], tsne_50[:,1], c = cluster_map['cluster2']))\n",
    "fig.colorbar(ass, ticks=range(2))\n",
    "    "
   ]
  },
  {
   "cell_type": "markdown",
   "metadata": {},
   "source": [
    "# Plot the group top left section"
   ]
  },
  {
   "cell_type": "code",
   "execution_count": null,
   "metadata": {},
   "outputs": [],
   "source": [
    "np.argmax(tsne_50[:,1])"
   ]
  },
  {
   "cell_type": "code",
   "execution_count": null,
   "metadata": {},
   "outputs": [],
   "source": []
  },
  {
   "cell_type": "code",
   "execution_count": null,
   "metadata": {},
   "outputs": [],
   "source": [
    "#tsne_50[:,1]\n",
    "tsne_y_gr_30 = [(np.where(tsne_50[:,1] == i)[0][0], i) for i in tsne_50[:,1] if i > 30]\n",
    "tsne_x_less_m15 = [(np.where(tsne_50[:,0] == i)[0][0], i) for i in tsne_50[:,0] if i < -15 and i > -20]"
   ]
  },
  {
   "cell_type": "code",
   "execution_count": null,
   "metadata": {},
   "outputs": [],
   "source": [
    "group_TL = pd.merge(pd.DataFrame(tsne_y_gr_30,columns=['index', \"tsne_y_50\"]),pd.DataFrame(tsne_x_less_m15,columns=['index', \"tsne_x_50\"]))\n",
    "len(group_TL)"
   ]
  },
  {
   "cell_type": "markdown",
   "metadata": {},
   "source": [
    "## Normalized"
   ]
  },
  {
   "cell_type": "code",
   "execution_count": null,
   "metadata": {
    "scrolled": true
   },
   "outputs": [],
   "source": [
    "#a2 = [reee[\"index\"][i] for i in range(len(reee)) if reee[\"index\"][i] in cluster_map[cluster_map['cluster2'] == 0].index.to_numpy()]\n",
    "fig, ax = plt.subplots(6,4, figsize= (15,18))\n",
    "l = 0\n",
    "for i in range(6):\n",
    "    for j in range(4):\n",
    "        ax[i,j].imshow(final_bogcl[group_TL[\"index\"][l]])\n",
    "        ax[i,j].set_title(\"{}\".format(ID_0.iloc[group_TL[\"index\"][l]][\"ID\"]))\n",
    "        l = l+1\n"
   ]
  },
  {
   "cell_type": "markdown",
   "metadata": {},
   "source": [
    "## No normalized"
   ]
  },
  {
   "cell_type": "code",
   "execution_count": null,
   "metadata": {
    "scrolled": true
   },
   "outputs": [],
   "source": [
    "fig, ax = plt.subplots(6,4, figsize= (15,18))\n",
    "l = 0\n",
    "for i in range(6):\n",
    "    for j in range(4):\n",
    "        ax[i,j].imshow(nonorm_bogcl[group_TL[\"index\"][l]])\n",
    "        ax[i,j].set_title(\"{}\".format(ID_0.iloc[group_TL[\"index\"][l]][\"ID\"]))\n",
    "        l = l+1"
   ]
  },
  {
   "cell_type": "markdown",
   "metadata": {},
   "source": [
    "# Plot group bottom right section"
   ]
  },
  {
   "cell_type": "code",
   "execution_count": null,
   "metadata": {},
   "outputs": [],
   "source": [
    "tsne_y_gr_m30 = [(np.where(tsne_50[:,1] == i)[0][0], i) for i in tsne_50[:,1] if i > -30 and i < -23]\n",
    "tsne_x_10_20 = [(np.where(tsne_50[:,0] == i)[0][0], i) for i in tsne_50[:,0] if i < 20 and i > 10]"
   ]
  },
  {
   "cell_type": "code",
   "execution_count": null,
   "metadata": {},
   "outputs": [],
   "source": [
    "group_BR = pd.merge(pd.DataFrame(tsne_y_gr_m30,columns=['index', \"tsne_y_50\"]),pd.DataFrame(tsne_x_10_20,columns=['index', \"tsne_x_50\"]))\n",
    "len(group_BR)"
   ]
  },
  {
   "cell_type": "markdown",
   "metadata": {},
   "source": [
    "## Normalized"
   ]
  },
  {
   "cell_type": "code",
   "execution_count": null,
   "metadata": {
    "scrolled": true
   },
   "outputs": [],
   "source": [
    "fig, ax = plt.subplots(3,3, figsize= (15,9))\n",
    "l = 0\n",
    "for i in range(3):\n",
    "    for j in range(3):\n",
    "        ax[i,j].imshow(final_bogcl[group_BR[\"index\"][l]])\n",
    "        ax[i,j].set_title(\"{}\".format(ID_0.iloc[group_BR[\"index\"][l]][\"ID\"]))\n",
    "        l = l+1"
   ]
  },
  {
   "cell_type": "markdown",
   "metadata": {},
   "source": [
    "# No-normalized"
   ]
  },
  {
   "cell_type": "code",
   "execution_count": null,
   "metadata": {
    "scrolled": true
   },
   "outputs": [],
   "source": [
    "fig, ax = plt.subplots(3,3, figsize= (15,9))\n",
    "l = 0\n",
    "for i in range(3):\n",
    "    for j in range(3):\n",
    "        ax[i,j].imshow(nonorm_bogcl[group_BR[\"index\"][l]])\n",
    "        ax[i,j].set_title(\"{}\".format(ID_0.iloc[group_BR[\"index\"][l]][\"ID\"]))\n",
    "        l = l+1"
   ]
  },
  {
   "cell_type": "code",
   "execution_count": null,
   "metadata": {},
   "outputs": [],
   "source": [
    "fig, ax = plt.subplots(4,3, figsize= (15,9))\n",
    "l = 0\n",
    "for i in range(4):\n",
    "    k = 0\n",
    "    for j in range(3):\n",
    "        if k < 3:\n",
    "            ax[i,j].imshow(boglc[(group_BR[\"index\"][l]*3)+k])\n",
    "            ax[i,j].set_title(\"{}\".format(ID_0.iloc[group_BR[\"index\"][l]][\"ID\"]))\n",
    "            k = k+1\n",
    "    l = l+1"
   ]
  },
  {
   "cell_type": "code",
   "execution_count": null,
   "metadata": {
    "scrolled": true
   },
   "outputs": [],
   "source": [
    "fig, ax = plt.subplots(1,2, figsize = (10,5))\n",
    "ax[0].scatter(tsne_8[:,0], tsne_8[:,1], c = cluster_map['cluster3'], label = cluster_map['cluster3'].value_counts())\n",
    "ax[0].set_title(\"tsne_8 \\n %s\" %cluster_map['cluster3'].value_counts())\n",
    "\n",
    "\n",
    "ass3 = ax[1].scatter(tsne_50[:,0], tsne_50[:,1], clim=[-0.5, 3 - 0.5], c = cluster_map['cluster3'])\n",
    "ax[1].set_title(\"tsne_50\")\n",
    "\n",
    "fig.colorbar(ass3, ticks=range(3))\n",
    "\n"
   ]
  },
  {
   "cell_type": "code",
   "execution_count": null,
   "metadata": {
    "scrolled": true
   },
   "outputs": [],
   "source": [
    "fig, ax = plt.subplots(1,2, figsize = (10,5))\n",
    "ax[0].scatter(tsne_8[:,0], tsne_8[:,1], c = cluster_map['cluster4'], label = cluster_map['cluster4'].value_counts())\n",
    "ax[0].set_title(\"tsne_8 \\n %s\" %cluster_map['cluster4'].value_counts())\n",
    "\n",
    "ass4 = ax[1].scatter(tsne_50[:,0], tsne_50[:,1], clim=[-0.5, 4 - 0.5], c = cluster_map['cluster4'])\n",
    "ax[1].set_title(\"tsne_50\")\n",
    "\n",
    "fig.colorbar(ass4, ticks=range(4))\n"
   ]
  },
  {
   "cell_type": "code",
   "execution_count": null,
   "metadata": {},
   "outputs": [],
   "source": [
    "#reee = pd.merge(pd.DataFrame(tsne_y_positive,columns=['index', \"tsne_y_50\"]),pd.DataFrame(tsne_x_less_m15,columns=['index', \"tsne_x_50\"]))\n",
    "#reee[\"index\"][0]\n",
    "#a2 = [reee[\"index\"][i] for i in range(len(reee)) if reee[\"index\"][i] in cluster_map[cluster_map['cluster3'] == 0].index.to_numpy()]"
   ]
  },
  {
   "cell_type": "code",
   "execution_count": null,
   "metadata": {},
   "outputs": [],
   "source": [
    "fig, ax = plt.subplots(1,2, figsize = (10,5))\n",
    "ax[0].scatter(tsne_8[:,0], tsne_8[:,1], c = cluster_map['cluster5'], label = cluster_map['cluster5'].value_counts())\n",
    "ax[0].set_title(\"tsne_8 \\n %s\" %cluster_map['cluster5'].value_counts())\n",
    "\n",
    "ass6 = ax[1].scatter(tsne_50[:,0], tsne_50[:,1], clim=[-0.5, 5 - 0.5], c = cluster_map['cluster5'])\n",
    "ax[1].set_title(\"tsne_50\")\n",
    "\n",
    "fig.colorbar(ass6, ticks=range(5))"
   ]
  },
  {
   "cell_type": "code",
   "execution_count": null,
   "metadata": {},
   "outputs": [],
   "source": [
    "fig, ax = plt.subplots(1,2, figsize = (10,5))\n",
    "ax[0].scatter(tsne_8[:,0], tsne_8[:,1], c = cluster_map['cluster6'], label = cluster_map['cluster6'].value_counts())\n",
    "ax[0].set_title(\"tsne_8 \\n %s\" %cluster_map['cluster6'].value_counts())\n",
    "\n",
    "ass6 = ax[1].scatter(tsne_50[:,0], tsne_50[:,1], clim=[-0.5, 6 - 0.5], c = cluster_map['cluster6'])\n",
    "ax[1].set_title(\"tsne_50\")\n",
    "\n",
    "fig.colorbar(ass6, ticks=range(6))\n"
   ]
  },
  {
   "cell_type": "code",
   "execution_count": null,
   "metadata": {},
   "outputs": [],
   "source": [
    "cluster_map[\"tsne_x_8\"] = tsne_8[:,0]\n",
    "cluster_map[\"tsne_y_8\"] = tsne_8[:,1]\n",
    "cluster_map[\"tsne_x_50\"] = tsne_50[:,0]\n",
    "cluster_map[\"tsne_y_50\"] = tsne_50[:,1]"
   ]
  },
  {
   "cell_type": "code",
   "execution_count": null,
   "metadata": {},
   "outputs": [],
   "source": [
    "cluster_map"
   ]
  },
  {
   "cell_type": "markdown",
   "metadata": {},
   "source": [
    "# DBSCAN for eps = 0.57, 0.5 and 0.45"
   ]
  },
  {
   "cell_type": "code",
   "execution_count": null,
   "metadata": {},
   "outputs": [],
   "source": [
    "from sklearn.cluster import DBSCAN\n",
    "import collections"
   ]
  },
  {
   "cell_type": "code",
   "execution_count": null,
   "metadata": {},
   "outputs": [],
   "source": [
    "db = DBSCAN(eps = 0.57,min_samples=10).fit(layer_output[0])\n",
    "db"
   ]
  },
  {
   "cell_type": "code",
   "execution_count": null,
   "metadata": {},
   "outputs": [],
   "source": [
    "collections.Counter(db.labels_)"
   ]
  },
  {
   "cell_type": "code",
   "execution_count": null,
   "metadata": {},
   "outputs": [],
   "source": [
    "db_map = pd.DataFrame()\n",
    "db_map['cluster'] = db.labels_\n",
    "plt.hist(db.labels_)\n",
    "    "
   ]
  },
  {
   "cell_type": "code",
   "execution_count": null,
   "metadata": {},
   "outputs": [],
   "source": [
    "#db.core_sample_indices_"
   ]
  },
  {
   "cell_type": "code",
   "execution_count": null,
   "metadata": {},
   "outputs": [],
   "source": [
    "#db.components_.shape"
   ]
  },
  {
   "cell_type": "code",
   "execution_count": null,
   "metadata": {},
   "outputs": [],
   "source": [
    "db_map"
   ]
  },
  {
   "cell_type": "code",
   "execution_count": null,
   "metadata": {},
   "outputs": [],
   "source": [
    "plt.scatter(tsne_50[:,0], tsne_50[:,1], c = db_map['cluster'], cmap = 'Paired')\n",
    "plt.colorbar(plt.scatter(tsne_50[:,0], tsne_50[:,1], c = db_map['cluster'],cmap = 'Paired'))"
   ]
  },
  {
   "cell_type": "markdown",
   "metadata": {},
   "source": [
    "# Plot group -1, the blue one"
   ]
  },
  {
   "cell_type": "code",
   "execution_count": null,
   "metadata": {},
   "outputs": [],
   "source": [
    "db_map[db_map[\"cluster\"]==-1].index.to_numpy()"
   ]
  },
  {
   "cell_type": "markdown",
   "metadata": {},
   "source": [
    "# Normalize"
   ]
  },
  {
   "cell_type": "code",
   "execution_count": null,
   "metadata": {
    "scrolled": true
   },
   "outputs": [],
   "source": [
    "fig, ax = plt.subplots(6,3, figsize= (18,20))\n",
    "k = 0\n",
    "for i in range(6):\n",
    "    for j in range(3):\n",
    "        ax[i,j].imshow(final_bogcl[db_map[db_map[\"cluster\"]==-1].index.to_numpy()[k]])\n",
    "        ax[i,j].set_title(\"{}\".format(ID_0.iloc[db_map[db_map[\"cluster\"]==-1].index.to_numpy()[k]][\"ID\"]))\n",
    "        k =k+1"
   ]
  },
  {
   "cell_type": "markdown",
   "metadata": {},
   "source": [
    "# No-Normalize"
   ]
  },
  {
   "cell_type": "code",
   "execution_count": null,
   "metadata": {
    "scrolled": true
   },
   "outputs": [],
   "source": [
    "fig, ax = plt.subplots(6,3, figsize= (18,20))\n",
    "k = 0\n",
    "for i in range(6):\n",
    "    for j in range(3):\n",
    "        ax[i,j].imshow(nonorm_bogcl[db_map[db_map[\"cluster\"]==-1].index.to_numpy()[k]])\n",
    "        ax[i,j].set_title(\"{}\".format(ID_0.iloc[db_map[db_map[\"cluster\"]==-1].index.to_numpy()[k]][\"ID\"]))\n",
    "        k =k+1"
   ]
  },
  {
   "cell_type": "markdown",
   "metadata": {},
   "source": [
    "# eps = 0.5"
   ]
  },
  {
   "cell_type": "code",
   "execution_count": null,
   "metadata": {},
   "outputs": [],
   "source": [
    "db1 = DBSCAN(eps = 0.5,min_samples=10).fit(layer_output[0])\n",
    "db1"
   ]
  },
  {
   "cell_type": "code",
   "execution_count": null,
   "metadata": {},
   "outputs": [],
   "source": [
    "collections.Counter(db1.labels_)"
   ]
  },
  {
   "cell_type": "code",
   "execution_count": null,
   "metadata": {},
   "outputs": [],
   "source": [
    "db1_map = pd.DataFrame()\n",
    "db1_map['cluster'] = db1.labels_\n",
    "plt.hist(db1.labels_)"
   ]
  },
  {
   "cell_type": "code",
   "execution_count": null,
   "metadata": {
    "scrolled": true
   },
   "outputs": [],
   "source": [
    "plt.scatter(tsne_50[:,0], tsne_50[:,1], c = db1_map['cluster'], cmap = 'Paired')\n",
    "plt.colorbar(plt.scatter(tsne_50[:,0], tsne_50[:,1], c = db1_map['cluster'],cmap = 'Paired'))"
   ]
  },
  {
   "cell_type": "markdown",
   "metadata": {},
   "source": [
    "# Plot cluster -1"
   ]
  },
  {
   "cell_type": "markdown",
   "metadata": {},
   "source": [
    "# Normalize"
   ]
  },
  {
   "cell_type": "code",
   "execution_count": null,
   "metadata": {},
   "outputs": [],
   "source": [
    "db1_map[db1_map[\"cluster\"]==-1].index.to_numpy()"
   ]
  },
  {
   "cell_type": "code",
   "execution_count": null,
   "metadata": {
    "scrolled": true
   },
   "outputs": [],
   "source": [
    "fig, ax = plt.subplots(7,4, figsize= (18,20))\n",
    "k = 0\n",
    "for i in range(7):\n",
    "    for j in range(4):\n",
    "        ax[i,j].imshow(final_bogcl[db1_map[db1_map[\"cluster\"]==-1].index.to_numpy()[k]])\n",
    "        ax[i,j].set_title(\"{}\".format(ID_0.iloc[db1_map[db1_map[\"cluster\"]==-1].index.to_numpy()[k]][\"ID\"]))\n",
    "        k =k+1"
   ]
  },
  {
   "cell_type": "markdown",
   "metadata": {},
   "source": [
    "# No-normalize"
   ]
  },
  {
   "cell_type": "code",
   "execution_count": null,
   "metadata": {
    "scrolled": true
   },
   "outputs": [],
   "source": [
    "fig, ax = plt.subplots(7,4, figsize= (18,20))\n",
    "k = 0\n",
    "for i in range(7):\n",
    "    for j in range(4):\n",
    "        ax[i,j].imshow(nonorm_bogcl[db1_map[db1_map[\"cluster\"]==-1].index.to_numpy()[k]])\n",
    "        ax[i,j].set_title(\"{}\".format(ID_0.iloc[db1_map[db1_map[\"cluster\"]==-1].index.to_numpy()[k]][\"ID\"]))\n",
    "        k =k+1"
   ]
  },
  {
   "cell_type": "code",
   "execution_count": null,
   "metadata": {},
   "outputs": [],
   "source": [
    "db1_map[db1_map[\"cluster\"]==0].index.to_numpy()"
   ]
  },
  {
   "cell_type": "code",
   "execution_count": null,
   "metadata": {
    "scrolled": true
   },
   "outputs": [],
   "source": [
    "fig, ax = plt.subplots(7,4, figsize= (18,20))\n",
    "k = 0\n",
    "for i in range(7):\n",
    "    for j in range(4):\n",
    "        ax[i,j].imshow(final_bogcl[db1_map[db1_map[\"cluster\"]==0].index.to_numpy()[k]])\n",
    "        ax[i,j].set_title(\"{}\".format(ID_0.iloc[db1_map[db1_map[\"cluster\"]==0].index.to_numpy()[k]][\"ID\"]))\n",
    "        k =k+1"
   ]
  },
  {
   "cell_type": "code",
   "execution_count": null,
   "metadata": {
    "scrolled": true
   },
   "outputs": [],
   "source": [
    "fig, ax = plt.subplots(7,4, figsize= (18,20))\n",
    "k = 0\n",
    "for i in range(7):\n",
    "    for j in range(4):\n",
    "        ax[i,j].imshow(nonorm_bogcl[db1_map[db1_map[\"cluster\"]==0].index.to_numpy()[k]])\n",
    "        ax[i,j].set_title(\"{}\".format(ID_0.iloc[db1_map[db1_map[\"cluster\"]==0].index.to_numpy()[k]][\"ID\"]))\n",
    "        k =k+1"
   ]
  },
  {
   "cell_type": "markdown",
   "metadata": {},
   "source": [
    "# eps = 0.45"
   ]
  },
  {
   "cell_type": "code",
   "execution_count": null,
   "metadata": {},
   "outputs": [],
   "source": [
    "db2 = DBSCAN(eps = 0.45,min_samples=10).fit(layer_output[0])\n",
    "db2"
   ]
  },
  {
   "cell_type": "code",
   "execution_count": null,
   "metadata": {},
   "outputs": [],
   "source": [
    "collections.Counter(db2.labels_)"
   ]
  },
  {
   "cell_type": "code",
   "execution_count": null,
   "metadata": {},
   "outputs": [],
   "source": [
    "db2_map = pd.DataFrame()\n",
    "db2_map['cluster'] = db2.labels_\n",
    "plt.hist(db2.labels_)"
   ]
  },
  {
   "cell_type": "code",
   "execution_count": null,
   "metadata": {},
   "outputs": [],
   "source": [
    "plt.scatter(tsne_50[:,0], tsne_50[:,1], c = db2_map['cluster'], cmap = 'Paired')\n",
    "plt.colorbar(plt.scatter(tsne_50[:,0], tsne_50[:,1], c = db2_map['cluster'],cmap = 'Paired'))"
   ]
  },
  {
   "cell_type": "markdown",
   "metadata": {},
   "source": [
    "# eps = 0.338"
   ]
  },
  {
   "cell_type": "code",
   "execution_count": null,
   "metadata": {},
   "outputs": [],
   "source": [
    "db3 = DBSCAN(eps = 0.338,min_samples=10).fit(layer_output[0])\n",
    "db3"
   ]
  },
  {
   "cell_type": "code",
   "execution_count": null,
   "metadata": {},
   "outputs": [],
   "source": [
    "collections.Counter(db3.labels_)"
   ]
  },
  {
   "cell_type": "code",
   "execution_count": null,
   "metadata": {},
   "outputs": [],
   "source": [
    "db3_map = pd.DataFrame()\n",
    "db3_map['cluster'] = db3.labels_\n",
    "plt.hist(db3.labels_)"
   ]
  },
  {
   "cell_type": "code",
   "execution_count": null,
   "metadata": {},
   "outputs": [],
   "source": [
    "plt.scatter(tsne_50[:,0], tsne_50[:,1], c = db3_map['cluster'], cmap = 'Paired')\n",
    "plt.colorbar(plt.scatter(tsne_50[:,0], tsne_50[:,1], c = db3_map['cluster'],cmap = 'Paired'))"
   ]
  },
  {
   "cell_type": "markdown",
   "metadata": {},
   "source": [
    "# Plot cluster 1, the brown one"
   ]
  },
  {
   "cell_type": "code",
   "execution_count": null,
   "metadata": {},
   "outputs": [],
   "source": [
    "db3_map[db3_map[\"cluster\"]==1].index"
   ]
  },
  {
   "cell_type": "markdown",
   "metadata": {},
   "source": [
    "# Normalize"
   ]
  },
  {
   "cell_type": "code",
   "execution_count": null,
   "metadata": {
    "scrolled": true
   },
   "outputs": [],
   "source": [
    "fig, ax = plt.subplots(5,2, figsize= (18,20))\n",
    "k = 0\n",
    "for i in range(5):\n",
    "    for j in range(2):\n",
    "        ax[i,j].imshow(final_bogcl[db3_map[db3_map[\"cluster\"]==1].index.to_numpy()[k]])\n",
    "        ax[i,j].set_title(\"{}\".format(ID_0.iloc[db3_map[db3_map[\"cluster\"]==1].index.to_numpy()[k]][\"ID\"]))\n",
    "        k =k+1"
   ]
  },
  {
   "cell_type": "markdown",
   "metadata": {},
   "source": [
    "# No-normalize"
   ]
  },
  {
   "cell_type": "code",
   "execution_count": null,
   "metadata": {
    "scrolled": true
   },
   "outputs": [],
   "source": [
    "fig, ax = plt.subplots(5,2, figsize= (18,20))\n",
    "k = 0\n",
    "for i in range(5):\n",
    "    for j in range(2):\n",
    "        ax[i,j].imshow(nonorm_bogcl[db3_map[db3_map[\"cluster\"]==1].index.to_numpy()[k]])\n",
    "        ax[i,j].set_title(\"{}\".format(ID_0.iloc[db3_map[db3_map[\"cluster\"]==1].index.to_numpy()[k]][\"ID\"]))\n",
    "        k =k+1"
   ]
  },
  {
   "cell_type": "code",
   "execution_count": null,
   "metadata": {},
   "outputs": [],
   "source": []
  }
 ],
 "metadata": {
  "kernelspec": {
   "display_name": "Python 3",
   "language": "python",
   "name": "python3"
  },
  "language_info": {
   "codemirror_mode": {
    "name": "ipython",
    "version": 3
   },
   "file_extension": ".py",
   "mimetype": "text/x-python",
   "name": "python",
   "nbconvert_exporter": "python",
   "pygments_lexer": "ipython3",
   "version": "3.7.6"
  }
 },
 "nbformat": 4,
 "nbformat_minor": 4
}
